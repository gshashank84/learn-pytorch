{
 "cells": [
  {
   "cell_type": "code",
   "execution_count": 1,
   "metadata": {},
   "outputs": [],
   "source": [
    "import numpy as np\n",
    "import torch\n",
    "import torch.nn as nn\n",
    "import torch.nn.functional as F\n",
    "import torchvision\n",
    "import torchvision.transforms as transforms\n",
    "import torch.optim as optim\n",
    "import torch.utils.data as data"
   ]
  },
  {
   "cell_type": "markdown",
   "metadata": {},
   "source": [
    "## Digit Classifier"
   ]
  },
  {
   "cell_type": "markdown",
   "metadata": {},
   "source": [
    "#### Dataset -> MNIST\n",
    "#### Framework -> Pytorch, Keras, Tensorflow\n",
    "\n",
    "- Compute Loss\n",
    "- Backpropagate and calculate gradients\n",
    "- Update parameters (Optimizer)\n",
    "- Specify epochs, batch_size\n",
    "- Evaluate the model with testset"
   ]
  },
  {
   "cell_type": "markdown",
   "metadata": {},
   "source": [
    "## Pytorch Example"
   ]
  },
  {
   "cell_type": "code",
   "execution_count": 2,
   "metadata": {},
   "outputs": [
    {
     "data": {
      "text/plain": [
       "'0.4.1'"
      ]
     },
     "execution_count": 2,
     "metadata": {},
     "output_type": "execute_result"
    }
   ],
   "source": [
    "torch.__version__"
   ]
  },
  {
   "cell_type": "markdown",
   "metadata": {},
   "source": [
    "### Neural Net class"
   ]
  },
  {
   "cell_type": "code",
   "execution_count": 3,
   "metadata": {},
   "outputs": [],
   "source": [
    "class Net(nn.Module):\n",
    "    def __init__(self, input_size, hidden_size, num_classes):\n",
    "        super(Net, self).__init__()\n",
    "        self.conv2d = nn.Conv2d(1,10,kernel_size=3,stride=1, padding=1)\n",
    "        #self.fc1 = nn.Linear(input_size, hidden_size)\n",
    "        self.fc2 = nn.Linear(hidden_size*10, num_classes) # hid*10->10 is num_channels\n",
    "        self.sigmoid = nn.Sigmoid()\n",
    "        self.softmax = nn.Softmax()\n",
    "        self.relu = nn.ReLU()\n",
    "        self.BatchNorm2d = nn.BatchNorm2d(10)  # Arg-> num_Channels\n",
    "        self.MaxPool2d = nn.MaxPool2d(kernel_size=3,stride=1)\n",
    "        \n",
    "    def forward(self,x):\n",
    "        #x = self.fc1(x)\n",
    "        #x = self.sigmoid(x)\n",
    "        #x = self.softmax(x)\n",
    "        x = self.conv2d(x)\n",
    "        x = self.BatchNorm2d(x)\n",
    "        x = self.relu(x)\n",
    "        x = x.reshape(x.size(0),-1)\n",
    "        x = self.fc2(x)\n",
    "        return x"
   ]
  },
  {
   "cell_type": "markdown",
   "metadata": {},
   "source": [
    "### MNIST DATASET"
   ]
  },
  {
   "cell_type": "code",
   "execution_count": 4,
   "metadata": {},
   "outputs": [],
   "source": [
    "train_data = torchvision.datasets.MNIST(root = './data',train=True,download=True,transform=transforms.ToTensor())"
   ]
  },
  {
   "cell_type": "code",
   "execution_count": 5,
   "metadata": {},
   "outputs": [],
   "source": [
    "test_data = torchvision.datasets.MNIST(root = './data',train=False,download=True,transform=transforms.ToTensor())"
   ]
  },
  {
   "cell_type": "markdown",
   "metadata": {},
   "source": [
    "### Model"
   ]
  },
  {
   "cell_type": "code",
   "execution_count": 6,
   "metadata": {},
   "outputs": [],
   "source": [
    "device = torch.device('cuda' if torch.cuda.is_available() else 'cpu')"
   ]
  },
  {
   "cell_type": "code",
   "execution_count": 7,
   "metadata": {},
   "outputs": [],
   "source": [
    "input_size = 500\n",
    "hidden_size = 784 #28*28\n",
    "num_classes = 10"
   ]
  },
  {
   "cell_type": "code",
   "execution_count": 8,
   "metadata": {},
   "outputs": [],
   "source": [
    "model = Net(input_size, hidden_size, num_classes).to(device)"
   ]
  },
  {
   "cell_type": "code",
   "execution_count": 9,
   "metadata": {},
   "outputs": [],
   "source": [
    "#loss function\n",
    "los = nn.CrossEntropyLoss()\n",
    "\n",
    "#optimizer\n",
    "#optimizer = optim.SGD(model.parameters(), lr= 0.01)\n",
    "optimizer = optim.Adam(model.parameters(), lr=0.001)"
   ]
  },
  {
   "cell_type": "code",
   "execution_count": 10,
   "metadata": {},
   "outputs": [],
   "source": [
    "# Data-loaders\n",
    "train_data = data.DataLoader(dataset=train_data,\n",
    "                            batch_size = 100,\n",
    "                            shuffle = True)\n",
    "test_data = data.DataLoader(dataset= test_data,\n",
    "                           batch_size = 100,\n",
    "                           shuffle = False)"
   ]
  },
  {
   "cell_type": "code",
   "execution_count": 11,
   "metadata": {
    "scrolled": false
   },
   "outputs": [
    {
     "name": "stdout",
     "output_type": "stream",
     "text": [
      "Epoch: [1/3], Step: [600/600], Loss: 0.1218\n",
      "Epoch: [2/3], Step: [600/600], Loss: 0.2984\n",
      "Epoch: [3/3], Step: [600/600], Loss: 0.0306\n"
     ]
    }
   ],
   "source": [
    "epochs = 3\n",
    "total_step = len(train_data)\n",
    "\n",
    "#Taining the model\n",
    "for epoch in range(epochs):\n",
    "    for i, (images, labels) in enumerate(train_data):\n",
    "        #Moving tensors to device\n",
    "        #images = images.reshape(-1,28*28).to(device)\n",
    "        images = images.reshape(-1,1,28,28).to(device)\n",
    "        labels = labels.to(device)\n",
    "        \n",
    "        #Forward prop\n",
    "        out = model(images)\n",
    "        loss = los(out, labels)\n",
    "        \n",
    "        #Backward Prop\n",
    "        optimizer.zero_grad()\n",
    "        loss.backward()\n",
    "        optimizer.step()\n",
    "        \n",
    "        if (i+1)%600 == 0:\n",
    "            print ('Epoch: [{}/{}], Step: [{}/{}], Loss: {:.4f}'\n",
    "                  .format(epoch+1, epochs, i+1, total_step, loss.item()))\n"
   ]
  },
  {
   "cell_type": "code",
   "execution_count": 12,
   "metadata": {
    "scrolled": false
   },
   "outputs": [
    {
     "name": "stdout",
     "output_type": "stream",
     "text": [
      "Accuracy on test images: 98.0 %\n"
     ]
    }
   ],
   "source": [
    "# Evaluating the model\n",
    "with torch.no_grad():\n",
    "    correct = 0\n",
    "    total = 0\n",
    "    for images, labels in test_data:\n",
    "        images = images.reshape(-1,1,28,28).to(device)\n",
    "        labels = labels.to(device)\n",
    "        output = model(images)\n",
    "        # Here the torch.max is used to choose the max probability of\n",
    "        # the given no. of classes\n",
    "        _, predicted = torch.max(output.data, 1)\n",
    "        total += labels.size(0)\n",
    "        correct += (predicted == labels).sum().item()\n",
    "        # Here the .item() is to convert the computed tensor into scalar\n",
    "    \n",
    "    print('Accuracy on test images: {} %'.format(100*correct/total))"
   ]
  },
  {
   "cell_type": "code",
   "execution_count": null,
   "metadata": {},
   "outputs": [],
   "source": []
  }
 ],
 "metadata": {
  "kernelspec": {
   "display_name": "Python 3",
   "language": "python",
   "name": "python3"
  },
  "language_info": {
   "codemirror_mode": {
    "name": "ipython",
    "version": 3
   },
   "file_extension": ".py",
   "mimetype": "text/x-python",
   "name": "python",
   "nbconvert_exporter": "python",
   "pygments_lexer": "ipython3",
   "version": "3.6.5"
  }
 },
 "nbformat": 4,
 "nbformat_minor": 2
}
