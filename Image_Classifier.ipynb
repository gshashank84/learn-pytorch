{
 "cells": [
  {
   "cell_type": "markdown",
   "metadata": {
    "colab_type": "text",
    "id": "TveSZw38vXTD"
   },
   "source": [
    "# Image Classifier"
   ]
  },
  {
   "cell_type": "markdown",
   "metadata": {
    "colab_type": "text",
    "id": "lXZUv2EBvXTI"
   },
   "source": [
    "### Dataset -> Fashion-MNIST, IMAGENET, CIFAR10"
   ]
  },
  {
   "cell_type": "markdown",
   "metadata": {
    "colab_type": "text",
    "id": "NQzknABpvXTL"
   },
   "source": [
    "- Import Dataset\n",
    "- Design model\n",
    "- Specify Hyperparameters\n",
    "- Forward Prop\n",
    "- Compute Loss\n",
    "- Backward Prop\n",
    "- Update Gradients"
   ]
  },
  {
   "cell_type": "code",
   "execution_count": 216,
   "metadata": {
    "colab": {
     "base_uri": "https://localhost:8080/",
     "height": 836
    },
    "colab_type": "code",
    "id": "yuxuvIfcvzNJ",
    "outputId": "483dc425-9ef2-483f-de13-63be840dacf8"
   },
   "outputs": [
    {
     "name": "stdout",
     "output_type": "stream",
     "text": [
      "Requirement already satisfied: torch in /usr/local/lib/python3.6/dist-packages (0.4.1)\n",
      "Requirement already satisfied: torchvision in /usr/local/lib/python3.6/dist-packages (0.2.1)\n",
      "Requirement already satisfied: pillow>=4.1.1 in /usr/local/lib/python3.6/dist-packages (from torchvision) (5.3.0)\n",
      "Requirement already satisfied: six in /usr/local/lib/python3.6/dist-packages (from torchvision) (1.11.0)\n",
      "Requirement already satisfied: numpy in /usr/local/lib/python3.6/dist-packages (from torchvision) (1.14.6)\n",
      "Requirement already satisfied: torch in /usr/local/lib/python3.6/dist-packages (from torchvision) (0.4.1)\n",
      "Requirement already satisfied: livelossplot in /usr/local/lib/python3.6/dist-packages (0.2.0)\n",
      "Requirement already satisfied: notebook in /usr/local/lib/python3.6/dist-packages (from livelossplot) (5.2.2)\n",
      "Requirement already satisfied: matplotlib in /usr/local/lib/python3.6/dist-packages (from livelossplot) (2.1.2)\n",
      "Requirement already satisfied: jinja2 in /usr/local/lib/python3.6/dist-packages (from notebook->livelossplot) (2.10)\n",
      "Requirement already satisfied: tornado>=4 in /usr/local/lib/python3.6/dist-packages (from notebook->livelossplot) (4.5.3)\n",
      "Requirement already satisfied: ipython-genutils in /usr/local/lib/python3.6/dist-packages (from notebook->livelossplot) (0.2.0)\n",
      "Requirement already satisfied: terminado>=0.3.3; sys_platform != \"win32\" in /usr/local/lib/python3.6/dist-packages (from notebook->livelossplot) (0.8.1)\n",
      "Requirement already satisfied: traitlets>=4.2.1 in /usr/local/lib/python3.6/dist-packages (from notebook->livelossplot) (4.3.2)\n",
      "Requirement already satisfied: jupyter-client in /usr/local/lib/python3.6/dist-packages (from notebook->livelossplot) (5.2.3)\n",
      "Requirement already satisfied: jupyter-core in /usr/local/lib/python3.6/dist-packages (from notebook->livelossplot) (4.4.0)\n",
      "Requirement already satisfied: ipykernel in /usr/local/lib/python3.6/dist-packages (from notebook->livelossplot) (4.6.1)\n",
      "Requirement already satisfied: nbconvert in /usr/local/lib/python3.6/dist-packages (from notebook->livelossplot) (5.4.0)\n",
      "Requirement already satisfied: nbformat in /usr/local/lib/python3.6/dist-packages (from notebook->livelossplot) (4.4.0)\n",
      "Requirement already satisfied: six>=1.10 in /usr/local/lib/python3.6/dist-packages (from matplotlib->livelossplot) (1.11.0)\n",
      "Requirement already satisfied: numpy>=1.7.1 in /usr/local/lib/python3.6/dist-packages (from matplotlib->livelossplot) (1.14.6)\n",
      "Requirement already satisfied: cycler>=0.10 in /usr/local/lib/python3.6/dist-packages (from matplotlib->livelossplot) (0.10.0)\n",
      "Requirement already satisfied: python-dateutil>=2.1 in /usr/local/lib/python3.6/dist-packages (from matplotlib->livelossplot) (2.5.3)\n",
      "Requirement already satisfied: pytz in /usr/local/lib/python3.6/dist-packages (from matplotlib->livelossplot) (2018.5)\n",
      "Requirement already satisfied: pyparsing!=2.0.4,!=2.1.2,!=2.1.6,>=2.0.1 in /usr/local/lib/python3.6/dist-packages (from matplotlib->livelossplot) (2.2.1)\n",
      "Requirement already satisfied: MarkupSafe>=0.23 in /usr/local/lib/python3.6/dist-packages (from jinja2->notebook->livelossplot) (1.0)\n",
      "Requirement already satisfied: ptyprocess; os_name != \"nt\" in /usr/local/lib/python3.6/dist-packages (from terminado>=0.3.3; sys_platform != \"win32\"->notebook->livelossplot) (0.6.0)\n",
      "Requirement already satisfied: decorator in /usr/local/lib/python3.6/dist-packages (from traitlets>=4.2.1->notebook->livelossplot) (4.3.0)\n",
      "Requirement already satisfied: pyzmq>=13 in /usr/local/lib/python3.6/dist-packages (from jupyter-client->notebook->livelossplot) (16.0.4)\n",
      "Requirement already satisfied: ipython>=4.0.0 in /usr/local/lib/python3.6/dist-packages (from ipykernel->notebook->livelossplot) (5.5.0)\n",
      "Requirement already satisfied: mistune>=0.8.1 in /usr/local/lib/python3.6/dist-packages (from nbconvert->notebook->livelossplot) (0.8.3)\n",
      "Requirement already satisfied: pygments in /usr/local/lib/python3.6/dist-packages (from nbconvert->notebook->livelossplot) (2.1.3)\n",
      "Requirement already satisfied: pandocfilters>=1.4.1 in /usr/local/lib/python3.6/dist-packages (from nbconvert->notebook->livelossplot) (1.4.2)\n",
      "Requirement already satisfied: testpath in /usr/local/lib/python3.6/dist-packages (from nbconvert->notebook->livelossplot) (0.4.1)\n",
      "Requirement already satisfied: defusedxml in /usr/local/lib/python3.6/dist-packages (from nbconvert->notebook->livelossplot) (0.5.0)\n",
      "Requirement already satisfied: entrypoints>=0.2.2 in /usr/local/lib/python3.6/dist-packages (from nbconvert->notebook->livelossplot) (0.2.3)\n",
      "Requirement already satisfied: bleach in /usr/local/lib/python3.6/dist-packages (from nbconvert->notebook->livelossplot) (2.1.4)\n",
      "Requirement already satisfied: jsonschema!=2.5.0,>=2.4 in /usr/local/lib/python3.6/dist-packages (from nbformat->notebook->livelossplot) (2.6.0)\n",
      "Requirement already satisfied: pickleshare in /usr/local/lib/python3.6/dist-packages (from ipython>=4.0.0->ipykernel->notebook->livelossplot) (0.7.5)\n",
      "Requirement already satisfied: simplegeneric>0.8 in /usr/local/lib/python3.6/dist-packages (from ipython>=4.0.0->ipykernel->notebook->livelossplot) (0.8.1)\n",
      "Requirement already satisfied: setuptools>=18.5 in /usr/local/lib/python3.6/dist-packages (from ipython>=4.0.0->ipykernel->notebook->livelossplot) (39.1.0)\n",
      "Requirement already satisfied: prompt-toolkit<2.0.0,>=1.0.4 in /usr/local/lib/python3.6/dist-packages (from ipython>=4.0.0->ipykernel->notebook->livelossplot) (1.0.15)\n",
      "Requirement already satisfied: pexpect; sys_platform != \"win32\" in /usr/local/lib/python3.6/dist-packages (from ipython>=4.0.0->ipykernel->notebook->livelossplot) (4.6.0)\n",
      "Requirement already satisfied: html5lib!=1.0b1,!=1.0b2,!=1.0b3,!=1.0b4,!=1.0b5,!=1.0b6,!=1.0b7,!=1.0b8,>=0.99999999pre in /usr/local/lib/python3.6/dist-packages (from bleach->nbconvert->notebook->livelossplot) (1.0.1)\n",
      "Requirement already satisfied: wcwidth in /usr/local/lib/python3.6/dist-packages (from prompt-toolkit<2.0.0,>=1.0.4->ipython>=4.0.0->ipykernel->notebook->livelossplot) (0.1.7)\n",
      "Requirement already satisfied: webencodings in /usr/local/lib/python3.6/dist-packages (from html5lib!=1.0b1,!=1.0b2,!=1.0b3,!=1.0b4,!=1.0b5,!=1.0b6,!=1.0b7,!=1.0b8,>=0.99999999pre->bleach->nbconvert->notebook->livelossplot) (0.5.1)\n"
     ]
    }
   ],
   "source": [
    "!pip install torch\n",
    "!pip install torchvision\n",
    "!pip install livelossplot"
   ]
  },
  {
   "cell_type": "code",
   "execution_count": 0,
   "metadata": {
    "colab": {},
    "colab_type": "code",
    "id": "8Bd7ux_jvXTP"
   },
   "outputs": [],
   "source": [
    "import torch\n",
    "import torch.nn as nn\n",
    "import torch.nn.functional as F\n",
    "import torchvision\n",
    "import torch.optim as optim\n",
    "import torchvision.transforms as transforms\n",
    "from livelossplot import PlotLosses\n",
    "import matplotlib.pyplot\n",
    "% matplotlib inline"
   ]
  },
  {
   "cell_type": "code",
   "execution_count": 228,
   "metadata": {
    "colab": {
     "base_uri": "https://localhost:8080/",
     "height": 34
    },
    "colab_type": "code",
    "id": "vQeu_vb1vXVN",
    "outputId": "b5cce6c4-2290-4d60-d693-0cd22320e154"
   },
   "outputs": [
    {
     "data": {
      "text/plain": [
       "True"
      ]
     },
     "execution_count": 228,
     "metadata": {
      "tags": []
     },
     "output_type": "execute_result"
    }
   ],
   "source": [
    "torch.cuda.is_available()"
   ]
  },
  {
   "cell_type": "markdown",
   "metadata": {
    "colab_type": "text",
    "id": "2iOv2kYuvXTf"
   },
   "source": [
    "#### Model"
   ]
  },
  {
   "cell_type": "code",
   "execution_count": 0,
   "metadata": {
    "colab": {},
    "colab_type": "code",
    "id": "ly5vlgS3vXTl"
   },
   "outputs": [],
   "source": [
    "class Net(nn.Module):\n",
    "    def __init__(self,input_channel,hidden_channel,out_channel, input_size, hidden_size, num_classes):\n",
    "        super(Net, self).__init__()\n",
    "        self.conv2d = nn.Conv2d(input_channel,hidden_channel,\n",
    "                                kernel_size=3,\n",
    "                                stride=1,padding=1)\n",
    "        self.conv2d_p = nn.Conv2d(hidden_channel, out_channel,\n",
    "                                 kernel_size= 5, stride=1)\n",
    "        self.fc1 = nn.Linear(input_size, hidden_size)\n",
    "        self.fc2 = nn.Linear(hidden_size, num_classes)\n",
    "        self.relu = nn.ReLU()\n",
    "        self.BatchNorm2d = nn.BatchNorm2d(hidden_channel)  # n_Channel\n",
    "        self.BatchNorm2d_p = nn.BatchNorm2d(out_channel)\n",
    "        self.sigmoid = nn.Sigmoid()\n",
    "        self.MaxPool2d = nn.MaxPool2d(kernel_size=3,stride=1)\n",
    "        self.Dropout2d = nn.Dropout2d(p=0.5)\n",
    "        \n",
    "    def forward(self, x):\n",
    "        x = self.conv2d(x)\n",
    "        x = self.BatchNorm2d(x)\n",
    "        x = self.MaxPool2d(x)\n",
    "        x = self.relu(x)\n",
    "        x = self.conv2d_p(x)\n",
    "        x = self.BatchNorm2d_p(x)\n",
    "        x = F.relu(F.max_pool2d(x,3))\n",
    "        x = x.reshape(x.size(0),-1) \n",
    "        x = self.fc1(x)\n",
    "        x = self.sigmoid(x)\n",
    "        x = self.Dropout2d(x)\n",
    "        x = self.fc2(x)\n",
    "        return x\n",
    "        "
   ]
  },
  {
   "cell_type": "markdown",
   "metadata": {
    "colab_type": "text",
    "id": "nlGS1NBtvXTu"
   },
   "source": [
    "### Dataset load"
   ]
  },
  {
   "cell_type": "code",
   "execution_count": 219,
   "metadata": {
    "colab": {
     "base_uri": "https://localhost:8080/",
     "height": 52
    },
    "colab_type": "code",
    "id": "Mndqeti9vXTz",
    "outputId": "8393aa72-dec1-44ad-ee82-e2a75435452f"
   },
   "outputs": [
    {
     "name": "stdout",
     "output_type": "stream",
     "text": [
      "Files already downloaded and verified\n",
      "Files already downloaded and verified\n"
     ]
    }
   ],
   "source": [
    "train_data = torchvision.datasets.CIFAR10(root = './data',\n",
    "                                              train = True,\n",
    "                                              transform = transforms.ToTensor(),\n",
    "                                              download = True)\n",
    "\n",
    "test_data = torchvision.datasets.CIFAR10(root = './data',\n",
    "                                             train = False,\n",
    "                                             transform = transforms.ToTensor(),\n",
    "                                             download = True)\n",
    "\n",
    "train_loader = torch.utils.data.DataLoader(dataset= train_data,\n",
    "                                          batch_size= 100,\n",
    "                                          shuffle = True)\n",
    "\n",
    "test_loader = torch.utils.data.DataLoader(dataset= test_data,\n",
    "                                         batch_size = 100,\n",
    "                                         shuffle = False)"
   ]
  },
  {
   "cell_type": "markdown",
   "metadata": {
    "colab_type": "text",
    "id": "5K8FNruFvXUA"
   },
   "source": [
    "Implementation"
   ]
  },
  {
   "cell_type": "code",
   "execution_count": 0,
   "metadata": {
    "colab": {},
    "colab_type": "code",
    "id": "aYdDL3DuvXUF"
   },
   "outputs": [],
   "source": [
    "device = torch.device('cuda' if torch.cuda.is_available() else 'cpu')"
   ]
  },
  {
   "cell_type": "code",
   "execution_count": 0,
   "metadata": {
    "colab": {},
    "colab_type": "code",
    "id": "L9m5TLvIvXUM"
   },
   "outputs": [],
   "source": [
    "input_channel = 3\n",
    "hidden_channel = 15\n",
    "out_channel = 25\n",
    "num_classes = 10\n",
    "input_size = out_channel*8*8\n",
    "hidden_size = 500\n",
    "epochs = 25\n",
    "total_step = len(train_loader)"
   ]
  },
  {
   "cell_type": "code",
   "execution_count": 0,
   "metadata": {
    "colab": {},
    "colab_type": "code",
    "id": "ZkAL3JDjvXUY"
   },
   "outputs": [],
   "source": [
    "model = Net(input_channel,hidden_channel,out_channel, input_size, hidden_size, num_classes).to(device)"
   ]
  },
  {
   "cell_type": "code",
   "execution_count": 0,
   "metadata": {
    "colab": {},
    "colab_type": "code",
    "id": "1GOWxjsRvXUh"
   },
   "outputs": [],
   "source": [
    "# loss function\n",
    "criterion = nn.CrossEntropyLoss()\n",
    "\n",
    "# optimizer\n",
    "optimizer = optim.Adam(model.parameters(), lr=0.001)"
   ]
  },
  {
   "cell_type": "code",
   "execution_count": 0,
   "metadata": {
    "colab": {},
    "colab_type": "code",
    "id": "K5QoG6B1RVmM"
   },
   "outputs": [],
   "source": [
    "liveloss = PlotLosses()"
   ]
  },
  {
   "cell_type": "code",
   "execution_count": 225,
   "metadata": {
    "colab": {
     "base_uri": "https://localhost:8080/",
     "height": 451
    },
    "colab_type": "code",
    "id": "oTVrB-6LvXUs",
    "outputId": "fb14342b-a933-47a4-bf66-773210f758f4"
   },
   "outputs": [
    {
     "name": "stdout",
     "output_type": "stream",
     "text": [
      "Epoch: 1/25, step: 500/500, loss: 1.2567\n",
      "Epoch: 2/25, step: 500/500, loss: 0.8831\n",
      "Epoch: 3/25, step: 500/500, loss: 1.0004\n",
      "Epoch: 4/25, step: 500/500, loss: 0.7327\n",
      "Epoch: 5/25, step: 500/500, loss: 0.7164\n",
      "Epoch: 6/25, step: 500/500, loss: 0.7458\n",
      "Epoch: 7/25, step: 500/500, loss: 0.5789\n",
      "Epoch: 8/25, step: 500/500, loss: 0.7296\n",
      "Epoch: 9/25, step: 500/500, loss: 0.6578\n",
      "Epoch: 10/25, step: 500/500, loss: 0.5908\n",
      "Epoch: 11/25, step: 500/500, loss: 0.6272\n",
      "Epoch: 12/25, step: 500/500, loss: 0.5919\n",
      "Epoch: 13/25, step: 500/500, loss: 0.7541\n",
      "Epoch: 14/25, step: 500/500, loss: 0.6609\n",
      "Epoch: 15/25, step: 500/500, loss: 0.4499\n",
      "Epoch: 16/25, step: 500/500, loss: 0.4846\n",
      "Epoch: 17/25, step: 500/500, loss: 0.6336\n",
      "Epoch: 18/25, step: 500/500, loss: 0.3911\n",
      "Epoch: 19/25, step: 500/500, loss: 0.2927\n",
      "Epoch: 20/25, step: 500/500, loss: 0.3257\n",
      "Epoch: 21/25, step: 500/500, loss: 0.4074\n",
      "Epoch: 22/25, step: 500/500, loss: 0.2235\n",
      "Epoch: 23/25, step: 500/500, loss: 0.3203\n",
      "Epoch: 24/25, step: 500/500, loss: 0.2975\n",
      "Epoch: 25/25, step: 500/500, loss: 0.2721\n"
     ]
    }
   ],
   "source": [
    "for epoch in range(epochs):\n",
    "    avg_accuracy = 0\n",
    "    avg_loss = 0\n",
    "    total = 0\n",
    "    val_total = 0\n",
    "    val_avg_loss = 0\n",
    "    val_avg_accuracy = 0\n",
    "    for i, (images, labels) in enumerate(train_loader):\n",
    "        images = images.reshape(-1,input_channel,32,32).to(device)\n",
    "        labels = labels.to(device)\n",
    "        \n",
    "        #Forward Prop\n",
    "        output = model(images)\n",
    "        loss = criterion(output, labels)\n",
    "        \n",
    "        _,predicted = torch.max(output.data, 1)\n",
    "\n",
    "        total += labels.size(0)\n",
    "        avg_loss += loss.item()\n",
    "        avg_accuracy += (labels == predicted).sum().item()\n",
    "        \n",
    "        #Backward Prop\n",
    "        optimizer.zero_grad()\n",
    "        loss.backward()\n",
    "        optimizer.step()\n",
    "        \n",
    "        if (i+1)%(total_step) == 0:\n",
    "            print('Epoch: {}/{}, step: {}/{}, loss: {:.4f}'.format(epoch+1,\n",
    "                                                              epochs,\n",
    "                                                              i+1,\n",
    "                                                              total_step,\n",
    "                                                              loss.item()))\n",
    "        \n",
    "      \n",
    "        \n",
    "        \n",
    "  # The below code is for only validation loss and accuracy \n",
    "    \n",
    "    for val_images, val_labels in test_loader:\n",
    "      val_images = val_images.reshape(-1, input_channel,32,32).to(device)\n",
    "      val_labels = val_labels.to(device)\n",
    "      \n",
    "      val_output = model(val_images)\n",
    "      val_loss = criterion(val_output, val_labels)\n",
    "      _, val_predicted = torch.max(val_output.data, 1)\n",
    "      \n",
    "      val_total += val_labels.size(0)\n",
    "      val_avg_loss += val_loss.item()\n",
    "      val_avg_accuracy += (val_labels == val_predicted).sum().item()\n",
    "    \n",
    "    avg_loss = avg_loss/total_step\n",
    "    avg_accuracy = avg_accuracy/total\n",
    "    val_avg_loss = val_avg_loss/ total_step\n",
    "    val_avg_accuracy = val_avg_accuracy/ val_total\n",
    "    liveloss.update({'log loss': avg_loss,'val_log loss':val_avg_loss,\n",
    "                     'accuracy': avg_accuracy,'val_accuracy':val_avg_accuracy})"
   ]
  },
  {
   "cell_type": "code",
   "execution_count": 226,
   "metadata": {
    "colab": {
     "base_uri": "https://localhost:8080/",
     "height": 34
    },
    "colab_type": "code",
    "id": "D48FmGJCvXVB",
    "outputId": "e7786682-8baa-499e-c332-997d900d45f0"
   },
   "outputs": [
    {
     "name": "stdout",
     "output_type": "stream",
     "text": [
      "Accuracy: 72.6%\n"
     ]
    }
   ],
   "source": [
    "#Evaluating the model\n",
    "with torch.no_grad():    \n",
    "    correct = 0\n",
    "    total = 0\n",
    "    for images, labels in test_loader:\n",
    "        images = images.reshape(-1,input_channel,32,32).to(device)\n",
    "        labels = labels.to(device)\n",
    "\n",
    "        output = model(images)\n",
    "        _,predicted = torch.max(output.data, 1)\n",
    "\n",
    "        total += labels.size(0)\n",
    "        correct += (labels == predicted).sum().item()\n",
    "\n",
    "    print('Accuracy: {}%'.format(100*correct/total))"
   ]
  },
  {
   "cell_type": "code",
   "execution_count": 227,
   "metadata": {
    "colab": {
     "base_uri": "https://localhost:8080/",
     "height": 346
    },
    "colab_type": "code",
    "id": "x-sGA6i7SEzE",
    "outputId": "f0afd1bc-662e-49a9-faba-6d36a417edae"
   },
   "outputs": [
    {
     "data": {
      "image/png": "[encoded data removed]",
      "text/plain": [
       "<matplotlib.figure.Figure at 0x7fe5f96fb128>"
      ]
     },
     "metadata": {
      "tags": []
     },
     "output_type": "display_data"
    }
   ],
   "source": [
    "liveloss.draw()"
   ]
  },
  {
   "cell_type": "markdown",
   "metadata": {
    "colab": {},
    "colab_type": "code",
    "id": "l8caFbjux8ya"
   },
   "source": [
    "### 72% <-- Highest Accuracy so far"
   ]
  },
  {
   "cell_type": "code",
   "execution_count": null,
   "metadata": {},
   "outputs": [],
   "source": []
  }
 ],
 "metadata": {
  "accelerator": "GPU",
  "colab": {
   "collapsed_sections": [],
   "name": "Image_Classifier.ipynb",
   "provenance": [],
   "version": "0.3.2"
  },
  "kernelspec": {
   "display_name": "Python 3",
   "language": "python",
   "name": "python3"
  },
  "language_info": {
   "codemirror_mode": {
    "name": "ipython",
    "version": 3
   },
   "file_extension": ".py",
   "mimetype": "text/x-python",
   "name": "python",
   "nbconvert_exporter": "python",
   "pygments_lexer": "ipython3",
   "version": "3.6.5"
  }
 },
 "nbformat": 4,
 "nbformat_minor": 1
}
