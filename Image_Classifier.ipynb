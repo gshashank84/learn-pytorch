{
  "nbformat": 4,
  "nbformat_minor": 0,
  "metadata": {
    "colab": {
      "name": "Image_Classifier.ipynb",
      "version": "0.3.2",
      "provenance": [],
      "collapsed_sections": [],
      "include_colab_link": true
    },
    "kernelspec": {
      "name": "python3",
      "display_name": "Python 3"
    },
    "accelerator": "GPU"
  },
  "cells": [
    {
      "cell_type": "markdown",
      "metadata": {
        "id": "view-in-github",
        "colab_type": "text"
      },
      "source": [
        "[View in Colaboratory](https://colab.research.google.com/github/gshashank84/learn-pytorch/blob/master/Image_Classifier.ipynb)"
      ]
    },
    {
      "metadata": {
        "id": "TveSZw38vXTD",
        "colab_type": "text"
      },
      "cell_type": "markdown",
      "source": [
        "# Image Classifier"
      ]
    },
    {
      "metadata": {
        "id": "lXZUv2EBvXTI",
        "colab_type": "text"
      },
      "cell_type": "markdown",
      "source": [
        "### Dataset -> Fashion-MNIST, IMAGENET, CIFAR10"
      ]
    },
    {
      "metadata": {
        "id": "NQzknABpvXTL",
        "colab_type": "text"
      },
      "cell_type": "markdown",
      "source": [
        "- Import Dataset\n",
        "- Design model\n",
        "- Specify Hyperparameters\n",
        "- Forward Prop\n",
        "- Compute Loss\n",
        "- Backward Prop\n",
        "- Update Gradients"
      ]
    },
    {
      "metadata": {
        "id": "yuxuvIfcvzNJ",
        "colab_type": "code",
        "colab": {
          "base_uri": "https://localhost:8080/",
          "height": 1201
        },
        "outputId": "2ff363e2-246d-4845-a490-823da6ee1629"
      },
      "cell_type": "code",
      "source": [
        "!pip install torch\n",
        "!pip install torchvision\n",
        "!pip install livelossplot"
      ],
      "execution_count": 1,
      "outputs": [
        {
          "output_type": "stream",
          "text": [
            "Collecting torch\n",
            "\u001b[?25l  Downloading https://files.pythonhosted.org/packages/49/0e/e382bcf1a6ae8225f50b99cc26effa2d4cc6d66975ccf3fa9590efcbedce/torch-0.4.1-cp36-cp36m-manylinux1_x86_64.whl (519.5MB)\n",
            "\u001b[K    100% |████████████████████████████████| 519.5MB 31kB/s \n",
            "tcmalloc: large alloc 1073750016 bytes == 0x5a49a000 @  0x7f03d64671c4 0x46d6a4 0x5fcbcc 0x4c494d 0x54f3c4 0x553aaf 0x54e4c8 0x54f4f6 0x553aaf 0x54efc1 0x54f24d 0x553aaf 0x54efc1 0x54f24d 0x553aaf 0x54efc1 0x54f24d 0x551ee0 0x54e4c8 0x54f4f6 0x553aaf 0x54efc1 0x54f24d 0x551ee0 0x54efc1 0x54f24d 0x551ee0 0x54e4c8 0x54f4f6 0x553aaf 0x54e4c8\n",
            "\u001b[?25hInstalling collected packages: torch\n",
            "Successfully installed torch-0.4.1\n",
            "Collecting torchvision\n",
            "\u001b[?25l  Downloading https://files.pythonhosted.org/packages/ca/0d/f00b2885711e08bd71242ebe7b96561e6f6d01fdb4b9dcf4d37e2e13c5e1/torchvision-0.2.1-py2.py3-none-any.whl (54kB)\n",
            "\u001b[K    100% |████████████████████████████████| 61kB 5.4MB/s \n",
            "\u001b[?25hRequirement already satisfied: numpy in /usr/local/lib/python3.6/dist-packages (from torchvision) (1.14.6)\n",
            "Requirement already satisfied: torch in /usr/local/lib/python3.6/dist-packages (from torchvision) (0.4.1)\n",
            "Collecting pillow>=4.1.1 (from torchvision)\n",
            "\u001b[?25l  Downloading https://files.pythonhosted.org/packages/62/94/5430ebaa83f91cc7a9f687ff5238e26164a779cca2ef9903232268b0a318/Pillow-5.3.0-cp36-cp36m-manylinux1_x86_64.whl (2.0MB)\n",
            "\u001b[K    100% |████████████████████████████████| 2.0MB 9.5MB/s \n",
            "\u001b[?25hRequirement already satisfied: six in /usr/local/lib/python3.6/dist-packages (from torchvision) (1.11.0)\n",
            "Installing collected packages: pillow, torchvision\n",
            "  Found existing installation: Pillow 4.0.0\n",
            "    Uninstalling Pillow-4.0.0:\n",
            "      Successfully uninstalled Pillow-4.0.0\n",
            "Successfully installed pillow-5.3.0 torchvision-0.2.1\n",
            "Collecting livelossplot\n",
            "  Downloading https://files.pythonhosted.org/packages/0c/01/3e34559dbdb98580d5e8f62bc3853975c2a2079834bfba2c1bdffe680804/livelossplot-0.2.0.tar.gz\n",
            "Requirement already satisfied: matplotlib in /usr/local/lib/python3.6/dist-packages (from livelossplot) (2.1.2)\n",
            "Requirement already satisfied: notebook in /usr/local/lib/python3.6/dist-packages (from livelossplot) (5.2.2)\n",
            "Requirement already satisfied: cycler>=0.10 in /usr/local/lib/python3.6/dist-packages (from matplotlib->livelossplot) (0.10.0)\n",
            "Requirement already satisfied: pytz in /usr/local/lib/python3.6/dist-packages (from matplotlib->livelossplot) (2018.5)\n",
            "Requirement already satisfied: six>=1.10 in /usr/local/lib/python3.6/dist-packages (from matplotlib->livelossplot) (1.11.0)\n",
            "Requirement already satisfied: numpy>=1.7.1 in /usr/local/lib/python3.6/dist-packages (from matplotlib->livelossplot) (1.14.6)\n",
            "Requirement already satisfied: python-dateutil>=2.1 in /usr/local/lib/python3.6/dist-packages (from matplotlib->livelossplot) (2.5.3)\n",
            "Requirement already satisfied: pyparsing!=2.0.4,!=2.1.2,!=2.1.6,>=2.0.1 in /usr/local/lib/python3.6/dist-packages (from matplotlib->livelossplot) (2.2.1)\n",
            "Requirement already satisfied: tornado>=4 in /usr/local/lib/python3.6/dist-packages (from notebook->livelossplot) (4.5.3)\n",
            "Requirement already satisfied: terminado>=0.3.3; sys_platform != \"win32\" in /usr/local/lib/python3.6/dist-packages (from notebook->livelossplot) (0.8.1)\n",
            "Requirement already satisfied: jupyter-core in /usr/local/lib/python3.6/dist-packages (from notebook->livelossplot) (4.4.0)\n",
            "Requirement already satisfied: ipython-genutils in /usr/local/lib/python3.6/dist-packages (from notebook->livelossplot) (0.2.0)\n",
            "Requirement already satisfied: ipykernel in /usr/local/lib/python3.6/dist-packages (from notebook->livelossplot) (4.6.1)\n",
            "Requirement already satisfied: nbformat in /usr/local/lib/python3.6/dist-packages (from notebook->livelossplot) (4.4.0)\n",
            "Requirement already satisfied: traitlets>=4.2.1 in /usr/local/lib/python3.6/dist-packages (from notebook->livelossplot) (4.3.2)\n",
            "Requirement already satisfied: jinja2 in /usr/local/lib/python3.6/dist-packages (from notebook->livelossplot) (2.10)\n",
            "Requirement already satisfied: nbconvert in /usr/local/lib/python3.6/dist-packages (from notebook->livelossplot) (5.4.0)\n",
            "Requirement already satisfied: jupyter-client in /usr/local/lib/python3.6/dist-packages (from notebook->livelossplot) (5.2.3)\n",
            "Requirement already satisfied: ptyprocess; os_name != \"nt\" in /usr/local/lib/python3.6/dist-packages (from terminado>=0.3.3; sys_platform != \"win32\"->notebook->livelossplot) (0.6.0)\n",
            "Requirement already satisfied: ipython>=4.0.0 in /usr/local/lib/python3.6/dist-packages (from ipykernel->notebook->livelossplot) (5.5.0)\n",
            "Requirement already satisfied: jsonschema!=2.5.0,>=2.4 in /usr/local/lib/python3.6/dist-packages (from nbformat->notebook->livelossplot) (2.6.0)\n",
            "Requirement already satisfied: decorator in /usr/local/lib/python3.6/dist-packages (from traitlets>=4.2.1->notebook->livelossplot) (4.3.0)\n",
            "Requirement already satisfied: MarkupSafe>=0.23 in /usr/local/lib/python3.6/dist-packages (from jinja2->notebook->livelossplot) (1.0)\n",
            "Requirement already satisfied: pandocfilters>=1.4.1 in /usr/local/lib/python3.6/dist-packages (from nbconvert->notebook->livelossplot) (1.4.2)\n",
            "Requirement already satisfied: mistune>=0.8.1 in /usr/local/lib/python3.6/dist-packages (from nbconvert->notebook->livelossplot) (0.8.3)\n",
            "Requirement already satisfied: bleach in /usr/local/lib/python3.6/dist-packages (from nbconvert->notebook->livelossplot) (2.1.4)\n",
            "Requirement already satisfied: testpath in /usr/local/lib/python3.6/dist-packages (from nbconvert->notebook->livelossplot) (0.4.1)\n",
            "Requirement already satisfied: defusedxml in /usr/local/lib/python3.6/dist-packages (from nbconvert->notebook->livelossplot) (0.5.0)\n",
            "Requirement already satisfied: entrypoints>=0.2.2 in /usr/local/lib/python3.6/dist-packages (from nbconvert->notebook->livelossplot) (0.2.3)\n",
            "Requirement already satisfied: pygments in /usr/local/lib/python3.6/dist-packages (from nbconvert->notebook->livelossplot) (2.1.3)\n",
            "Requirement already satisfied: pyzmq>=13 in /usr/local/lib/python3.6/dist-packages (from jupyter-client->notebook->livelossplot) (16.0.4)\n",
            "Requirement already satisfied: pickleshare in /usr/local/lib/python3.6/dist-packages (from ipython>=4.0.0->ipykernel->notebook->livelossplot) (0.7.5)\n",
            "Requirement already satisfied: prompt-toolkit<2.0.0,>=1.0.4 in /usr/local/lib/python3.6/dist-packages (from ipython>=4.0.0->ipykernel->notebook->livelossplot) (1.0.15)\n",
            "Requirement already satisfied: pexpect; sys_platform != \"win32\" in /usr/local/lib/python3.6/dist-packages (from ipython>=4.0.0->ipykernel->notebook->livelossplot) (4.6.0)\n",
            "Requirement already satisfied: simplegeneric>0.8 in /usr/local/lib/python3.6/dist-packages (from ipython>=4.0.0->ipykernel->notebook->livelossplot) (0.8.1)\n",
            "Requirement already satisfied: setuptools>=18.5 in /usr/local/lib/python3.6/dist-packages (from ipython>=4.0.0->ipykernel->notebook->livelossplot) (39.1.0)\n",
            "Requirement already satisfied: html5lib!=1.0b1,!=1.0b2,!=1.0b3,!=1.0b4,!=1.0b5,!=1.0b6,!=1.0b7,!=1.0b8,>=0.99999999pre in /usr/local/lib/python3.6/dist-packages (from bleach->nbconvert->notebook->livelossplot) (1.0.1)\n",
            "Requirement already satisfied: wcwidth in /usr/local/lib/python3.6/dist-packages (from prompt-toolkit<2.0.0,>=1.0.4->ipython>=4.0.0->ipykernel->notebook->livelossplot) (0.1.7)\n",
            "Requirement already satisfied: webencodings in /usr/local/lib/python3.6/dist-packages (from html5lib!=1.0b1,!=1.0b2,!=1.0b3,!=1.0b4,!=1.0b5,!=1.0b6,!=1.0b7,!=1.0b8,>=0.99999999pre->bleach->nbconvert->notebook->livelossplot) (0.5.1)\n",
            "Building wheels for collected packages: livelossplot\n",
            "  Running setup.py bdist_wheel for livelossplot ... \u001b[?25l-\b \b\\\b \bdone\n",
            "\u001b[?25h  Stored in directory: /root/.cache/pip/wheels/67/8b/e9/3990164e3b2a421145b9d9d76fc8aa889225d495b043faeb73\n",
            "Successfully built livelossplot\n",
            "Installing collected packages: livelossplot\n",
            "Successfully installed livelossplot-0.2.0\n"
          ],
          "name": "stdout"
        }
      ]
    },
    {
      "metadata": {
        "id": "8Bd7ux_jvXTP",
        "colab_type": "code",
        "colab": {
          "base_uri": "https://localhost:8080/",
          "height": 34
        },
        "outputId": "6652876d-f75a-45c9-c56e-3b368bc0d09c"
      },
      "cell_type": "code",
      "source": [
        "import torch\n",
        "import torch.nn as nn\n",
        "import torch.nn.functional as F\n",
        "import torchvision\n",
        "import torch.optim as optim\n",
        "import torchvision.transforms as transforms\n",
        "from livelossplot import PlotLosses\n",
        "import matplotlib.pyplot\n",
        "% matplotlib inline"
      ],
      "execution_count": 2,
      "outputs": [
        {
          "output_type": "stream",
          "text": [
            "Using TensorFlow backend.\n"
          ],
          "name": "stderr"
        }
      ]
    },
    {
      "metadata": {
        "id": "vQeu_vb1vXVN",
        "colab_type": "code",
        "colab": {
          "base_uri": "https://localhost:8080/",
          "height": 34
        },
        "outputId": "6b07914f-302b-4b6c-93b5-5b0c759a5f2d"
      },
      "cell_type": "code",
      "source": [
        "torch.cuda.is_available()"
      ],
      "execution_count": 3,
      "outputs": [
        {
          "output_type": "execute_result",
          "data": {
            "text/plain": [
              "True"
            ]
          },
          "metadata": {
            "tags": []
          },
          "execution_count": 3
        }
      ]
    },
    {
      "metadata": {
        "id": "2iOv2kYuvXTf",
        "colab_type": "text"
      },
      "cell_type": "markdown",
      "source": [
        "#### Model"
      ]
    },
    {
      "metadata": {
        "id": "ly5vlgS3vXTl",
        "colab_type": "code",
        "colab": {}
      },
      "cell_type": "code",
      "source": [
        "class Net(nn.Module):\n",
        "    def __init__(self,input_channel,hidden_channel,out_channel, input_size, hidden_size, num_classes):\n",
        "        super(Net, self).__init__()\n",
        "        self.conv2d = nn.Conv2d(input_channel,hidden_channel,\n",
        "                                kernel_size=3,\n",
        "                                stride=1,padding=1)\n",
        "        self.conv2d_p = nn.Conv2d(hidden_channel, out_channel,\n",
        "                                 kernel_size= 5, stride=1)\n",
        "        self.fc1 = nn.Linear(input_size, hidden_size)\n",
        "        self.fc2 = nn.Linear(hidden_size, num_classes)\n",
        "        self.relu = nn.ReLU()\n",
        "        self.BatchNorm2d = nn.BatchNorm2d(hidden_channel)  # n_Channel\n",
        "        self.BatchNorm2d_p = nn.BatchNorm2d(out_channel)\n",
        "        self.sigmoid = nn.Sigmoid()\n",
        "        self.MaxPool2d = nn.MaxPool2d(kernel_size=3,stride=1)\n",
        "        self.Dropout2d = nn.Dropout2d(p=0.5)\n",
        "        \n",
        "    def forward(self, x):\n",
        "        x = self.conv2d(x)\n",
        "        x = self.BatchNorm2d(x)\n",
        "        x = self.MaxPool2d(x)\n",
        "        x = self.relu(x)\n",
        "        x = self.conv2d_p(x)\n",
        "        x = self.BatchNorm2d_p(x)\n",
        "        x = F.relu(F.max_pool2d(x,3))\n",
        "        x = x.reshape(x.size(0),-1) \n",
        "        x = self.fc1(x)\n",
        "        x = self.sigmoid(x)\n",
        "        x = self.Dropout2d(x)\n",
        "        x = self.fc2(x)\n",
        "        return x\n",
        "        "
      ],
      "execution_count": 0,
      "outputs": []
    },
    {
      "metadata": {
        "id": "nlGS1NBtvXTu",
        "colab_type": "text"
      },
      "cell_type": "markdown",
      "source": [
        "### Dataset load"
      ]
    },
    {
      "metadata": {
        "id": "Mndqeti9vXTz",
        "colab_type": "code",
        "colab": {
          "base_uri": "https://localhost:8080/",
          "height": 72
        },
        "outputId": "42e14ea6-a91b-439a-c2c4-0a1b4df2ef94"
      },
      "cell_type": "code",
      "source": [
        "train_data = torchvision.datasets.CIFAR10(root = './data',\n",
        "                                              train = True,\n",
        "                                              transform = transforms.ToTensor(),\n",
        "                                              download = True)\n",
        "\n",
        "test_data = torchvision.datasets.CIFAR10(root = './data',\n",
        "                                             train = False,\n",
        "                                             transform = transforms.ToTensor(),\n",
        "                                             download = True)\n",
        "\n",
        "train_loader = torch.utils.data.DataLoader(dataset= train_data,\n",
        "                                          batch_size= 100,\n",
        "                                          shuffle = True)\n",
        "\n",
        "test_loader = torch.utils.data.DataLoader(dataset= test_data,\n",
        "                                         batch_size = 100,\n",
        "                                         shuffle = False)"
      ],
      "execution_count": 5,
      "outputs": [
        {
          "output_type": "stream",
          "text": [
            "Downloading https://www.cs.toronto.edu/~kriz/cifar-10-python.tar.gz to ./data/cifar-10-python.tar.gz\n",
            "Files already downloaded and verified\n"
          ],
          "name": "stdout"
        }
      ]
    },
    {
      "metadata": {
        "id": "5K8FNruFvXUA",
        "colab_type": "text"
      },
      "cell_type": "markdown",
      "source": [
        "Implementation"
      ]
    },
    {
      "metadata": {
        "id": "aYdDL3DuvXUF",
        "colab_type": "code",
        "colab": {}
      },
      "cell_type": "code",
      "source": [
        "device = torch.device('cuda' if torch.cuda.is_available() else 'cpu')"
      ],
      "execution_count": 0,
      "outputs": []
    },
    {
      "metadata": {
        "id": "L9m5TLvIvXUM",
        "colab_type": "code",
        "colab": {}
      },
      "cell_type": "code",
      "source": [
        "input_channel = 3\n",
        "hidden_channel = 15\n",
        "out_channel = 25\n",
        "num_classes = 10\n",
        "input_size = out_channel*8*8\n",
        "hidden_size = 500\n",
        "epochs = 25\n",
        "total_step = len(train_loader)\n",
        "val_total_step = len(test_loader)"
      ],
      "execution_count": 0,
      "outputs": []
    },
    {
      "metadata": {
        "id": "ZkAL3JDjvXUY",
        "colab_type": "code",
        "colab": {}
      },
      "cell_type": "code",
      "source": [
        "model = Net(input_channel,hidden_channel,out_channel, input_size, hidden_size, num_classes).to(device)"
      ],
      "execution_count": 0,
      "outputs": []
    },
    {
      "metadata": {
        "id": "1GOWxjsRvXUh",
        "colab_type": "code",
        "colab": {}
      },
      "cell_type": "code",
      "source": [
        "# loss function\n",
        "criterion = nn.CrossEntropyLoss()\n",
        "\n",
        "# optimizer\n",
        "optimizer = optim.Adam(model.parameters(), lr=0.001)"
      ],
      "execution_count": 0,
      "outputs": []
    },
    {
      "metadata": {
        "id": "K5QoG6B1RVmM",
        "colab_type": "code",
        "colab": {}
      },
      "cell_type": "code",
      "source": [
        "liveloss = PlotLosses()"
      ],
      "execution_count": 0,
      "outputs": []
    },
    {
      "metadata": {
        "id": "oTVrB-6LvXUs",
        "colab_type": "code",
        "colab": {
          "base_uri": "https://localhost:8080/",
          "height": 451
        },
        "outputId": "1120294e-9d69-47b0-d4f2-eb51fb3fe600"
      },
      "cell_type": "code",
      "source": [
        "for epoch in range(epochs):\n",
        "    avg_accuracy = 0\n",
        "    avg_loss = 0\n",
        "    total = 0\n",
        "    val_total = 0\n",
        "    val_avg_loss = 0\n",
        "    val_avg_accuracy = 0\n",
        "    for i, (images, labels) in enumerate(train_loader):\n",
        "        images = images.reshape(-1,input_channel,32,32).to(device)\n",
        "        labels = labels.to(device)\n",
        "        \n",
        "        #Forward Prop\n",
        "        output = model(images)\n",
        "        loss = criterion(output, labels)\n",
        "        \n",
        "        _,predicted = torch.max(output.data, 1)\n",
        "\n",
        "        total += labels.size(0)\n",
        "        avg_loss += loss.item()\n",
        "        avg_accuracy += (labels == predicted).sum().item()\n",
        "        \n",
        "        #Backward Prop\n",
        "        optimizer.zero_grad()\n",
        "        loss.backward()\n",
        "        optimizer.step()\n",
        "        \n",
        "        if (i+1)%(total_step) == 0:\n",
        "            print('Epoch: {}/{}, step: {}/{}, loss: {:.4f}'.format(epoch+1,\n",
        "                                                              epochs,\n",
        "                                                              i+1,\n",
        "                                                              total_step,\n",
        "                                                              loss.item()))\n",
        "        \n",
        "      \n",
        "        \n",
        "        \n",
        "  # The below code is for only validation loss and accuracy \n",
        "    \n",
        "    for val_images, val_labels in test_loader:\n",
        "      val_images = val_images.reshape(-1, input_channel,32,32).to(device)\n",
        "      val_labels = val_labels.to(device)\n",
        "      \n",
        "      val_output = model(val_images)\n",
        "      val_loss = criterion(val_output, val_labels)\n",
        "      _, val_predicted = torch.max(val_output.data, 1)\n",
        "      \n",
        "      val_total += val_labels.size(0)\n",
        "      val_avg_loss += val_loss.item()\n",
        "      val_avg_accuracy += (val_labels == val_predicted).sum().item()\n",
        "    \n",
        "    avg_loss = avg_loss/total_step\n",
        "    avg_accuracy = avg_accuracy/total\n",
        "    val_avg_loss = val_avg_loss/ val_total_step\n",
        "    val_avg_accuracy = val_avg_accuracy/ val_total\n",
        "    liveloss.update({'log loss': avg_loss,'val_log loss':val_avg_loss,\n",
        "                     'accuracy': avg_accuracy,'val_accuracy':val_avg_accuracy})"
      ],
      "execution_count": 11,
      "outputs": [
        {
          "output_type": "stream",
          "text": [
            "Epoch: 1/25, step: 500/500, loss: 1.4079\n",
            "Epoch: 2/25, step: 500/500, loss: 1.0167\n",
            "Epoch: 3/25, step: 500/500, loss: 1.1113\n",
            "Epoch: 4/25, step: 500/500, loss: 0.8793\n",
            "Epoch: 5/25, step: 500/500, loss: 0.7177\n",
            "Epoch: 6/25, step: 500/500, loss: 0.6775\n",
            "Epoch: 7/25, step: 500/500, loss: 0.7675\n",
            "Epoch: 8/25, step: 500/500, loss: 0.6890\n",
            "Epoch: 9/25, step: 500/500, loss: 0.5361\n",
            "Epoch: 10/25, step: 500/500, loss: 0.4384\n",
            "Epoch: 11/25, step: 500/500, loss: 0.7000\n",
            "Epoch: 12/25, step: 500/500, loss: 0.6408\n",
            "Epoch: 13/25, step: 500/500, loss: 0.5202\n",
            "Epoch: 14/25, step: 500/500, loss: 0.5485\n",
            "Epoch: 15/25, step: 500/500, loss: 0.4312\n",
            "Epoch: 16/25, step: 500/500, loss: 0.4233\n",
            "Epoch: 17/25, step: 500/500, loss: 0.4532\n",
            "Epoch: 18/25, step: 500/500, loss: 0.5158\n",
            "Epoch: 19/25, step: 500/500, loss: 0.4155\n",
            "Epoch: 20/25, step: 500/500, loss: 0.3234\n",
            "Epoch: 21/25, step: 500/500, loss: 0.3494\n",
            "Epoch: 22/25, step: 500/500, loss: 0.5302\n",
            "Epoch: 23/25, step: 500/500, loss: 0.3109\n",
            "Epoch: 24/25, step: 500/500, loss: 0.2486\n",
            "Epoch: 25/25, step: 500/500, loss: 0.3375\n"
          ],
          "name": "stdout"
        }
      ]
    },
    {
      "metadata": {
        "id": "D48FmGJCvXVB",
        "colab_type": "code",
        "colab": {
          "base_uri": "https://localhost:8080/",
          "height": 34
        },
        "outputId": "0ab605e6-3197-447a-9b08-e88b6cc21d19"
      },
      "cell_type": "code",
      "source": [
        "#Evaluating the model\n",
        "with torch.no_grad():    \n",
        "    correct = 0\n",
        "    total = 0\n",
        "    for images, labels in test_loader:\n",
        "        images = images.reshape(-1,input_channel,32,32).to(device)\n",
        "        labels = labels.to(device)\n",
        "\n",
        "        output = model(images)\n",
        "        _,predicted = torch.max(output.data, 1)\n",
        "\n",
        "        total += labels.size(0)\n",
        "        correct += (labels == predicted).sum().item()\n",
        "\n",
        "    print('Accuracy: {}%'.format(100*correct/total))"
      ],
      "execution_count": 12,
      "outputs": [
        {
          "output_type": "stream",
          "text": [
            "Accuracy: 72.43%\n"
          ],
          "name": "stdout"
        }
      ]
    },
    {
      "metadata": {
        "id": "x-sGA6i7SEzE",
        "colab_type": "code",
        "colab": {
          "base_uri": "https://localhost:8080/",
          "height": 346
        },
        "outputId": "7af6d5d7-5156-4567-bfa2-3b4ee169aaae"
      },
      "cell_type": "code",
      "source": [
        "liveloss.draw()"
      ],
      "execution_count": 13,
      "outputs": [
        {
          "output_type": "display_data",
          "data": {
            "image/png": "[encoded data removed]",
            "text/plain": [
              "<matplotlib.figure.Figure at 0x7f23d63589b0>"
            ]
          },
          "metadata": {
            "tags": []
          }
        }
      ]
    },
    {
      "metadata": {
        "id": "l8caFbjux8ya",
        "colab_type": "code",
        "colab": {}
      },
      "cell_type": "code",
      "source": [
        "#72% <-- Highest Accuracy so far"
      ],
      "execution_count": 0,
      "outputs": []
    }
  ]
}