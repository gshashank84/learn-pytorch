{
 "cells": [
  {
   "cell_type": "code",
   "execution_count": 9,
   "metadata": {},
   "outputs": [],
   "source": [
    "from fastai import *\n",
    "from fastai.text import *"
   ]
  },
  {
   "cell_type": "code",
   "execution_count": 2,
   "metadata": {
    "scrolled": true
   },
   "outputs": [
    {
     "name": "stdout",
     "output_type": "stream",
     "text": [
      "--2018-12-25 16:41:59--  https://he-s3.s3.amazonaws.com/media/hackathon/deep-learning-challenge-4/predict-the-energy-used-612632a9-3f496e7f-9da84021/d583b256-d-new_dataset.7z\n",
      "Resolving he-s3.s3.amazonaws.com (he-s3.s3.amazonaws.com)... 52.219.32.124\n",
      "Connecting to he-s3.s3.amazonaws.com (he-s3.s3.amazonaws.com)|52.219.32.124|:443... connected.\n",
      "HTTP request sent, awaiting response... 200 OK\n",
      "Length: 355228885 (339M) [application/x-7z-compressed]\n",
      "Saving to: ‘d583b256-d-new_dataset.7z’\n",
      "\n",
      "d583b256-d-new_data 100%[===================>] 338.77M   111KB/s    in 4m 5s   \n",
      "\n",
      "2018-12-25 16:46:05 (1.38 MB/s) - ‘d583b256-d-new_dataset.7z’ saved [355228885/355228885]\n",
      "\n"
     ]
    }
   ],
   "source": [
    "!wget 'https://he-s3.s3.amazonaws.com/media/hackathon/deep-learning-challenge-4/predict-the-energy-used-612632a9-3f496e7f-9da84021/d583b256-d-new_dataset.7z'"
   ]
  },
  {
   "cell_type": "code",
   "execution_count": 4,
   "metadata": {},
   "outputs": [
    {
     "name": "stdout",
     "output_type": "stream",
     "text": [
      "Reading package lists... Done\n",
      "Building dependency tree       \n",
      "Reading state information... Done\n",
      "The following additional packages will be installed:\n",
      "  p7zip\n",
      "Suggested packages:\n",
      "  p7zip-rar\n",
      "The following NEW packages will be installed:\n",
      "  p7zip p7zip-full\n",
      "0 upgraded, 2 newly installed, 0 to remove and 0 not upgraded.\n",
      "Need to get 1,479 kB of archives.\n",
      "After this operation, 5,469 kB of additional disk space will be used.\n",
      "Get:1 http://deb.debian.org/debian stretch/main amd64 p7zip amd64 16.02+dfsg-3+deb9u1 [364 kB]\n",
      "Get:2 http://deb.debian.org/debian stretch/main amd64 p7zip-full amd64 16.02+dfsg-3+deb9u1 [1,115 kB]\n",
      "Fetched 1,479 kB in 0s (40.3 MB/s)\n",
      "Selecting previously unselected package p7zip.\n",
      "(Reading database ... 82683 files and directories currently installed.)\n",
      "Preparing to unpack .../p7zip_16.02+dfsg-3+deb9u1_amd64.deb ...\n",
      "Unpacking p7zip (16.02+dfsg-3+deb9u1) ...\n",
      "Selecting previously unselected package p7zip-full.\n",
      "Preparing to unpack .../p7zip-full_16.02+dfsg-3+deb9u1_amd64.deb ...\n",
      "Unpacking p7zip-full (16.02+dfsg-3+deb9u1) ...\n",
      "Setting up p7zip (16.02+dfsg-3+deb9u1) ...\n",
      "Processing triggers for man-db (2.7.6.1-2) ...\n",
      "Setting up p7zip-full (16.02+dfsg-3+deb9u1) ...\n"
     ]
    }
   ],
   "source": [
    "!sudo apt-get install p7zip-full -y"
   ]
  },
  {
   "cell_type": "code",
   "execution_count": 6,
   "metadata": {
    "scrolled": true
   },
   "outputs": [
    {
     "name": "stdout",
     "output_type": "stream",
     "text": [
      "\n",
      "7-Zip [64] 16.02 : Copyright (c) 1999-2016 Igor Pavlov : 2016-05-21\n",
      "p7zip Version 16.02 (locale=en_US.UTF-8,Utf16=on,HugeFiles=on,64 bits,8 CPUs Intel(R) Xeon(R) CPU @ 2.00GHz (50653),ASM,AES-NI)\n",
      "\n",
      "Scanning the drive for archives:\n",
      "  0M Sca        1 file, 355228885 bytes (339 MiB)\n",
      "\n",
      "Extracting archive: d583b256-d-new_dataset.7z\n",
      "--\n",
      "Path = d583b256-d-new_dataset.7z\n",
      "Type = 7z\n",
      "Physical Size = 355228885\n",
      "Headers Size = 245\n",
      "Method = LZMA2:24\n",
      "Solid = +\n",
      "Blocks = 1\n",
      "\n",
      "      1% 2 - new_dataset/test.cs                              2% 2 - new_dataset/test.cs                              3% 2 - new_dataset/test.cs                              4% 2 - new_dataset/test.cs                              5% 2 - new_dataset/test.cs                              6% 2 - new_dataset/test.cs                              7% 2 - new_dataset/test.cs                              8% 2 - new_dataset/test.cs                              9% 2 - new_dataset/test.cs                             10% 2 - new_dataset/test.cs                             11% 2 - new_dataset/test.cs                             12% 2 - new_dataset/test.cs                             13% 2 - new_dataset/test.cs                             14% 2 - new_dataset/test.cs                             15% 2 - new_dataset/test.cs                             16% 2 - new_dataset/test.cs                             17% 2 - new_dataset/test.cs                             18% 2 - new_dataset/test.cs                             19% 2 - new_dataset/test.cs                             19% 3 - new_dataset/train.c                             20% 3 - new_dataset/train.c                             21% 3 - new_dataset/train.c                             22% 3 - new_dataset/train.c                             23% 3 - new_dataset/train.c                             24% 3 - new_dataset/train.c                             25% 3 - new_dataset/train.c                             26% 3 - new_dataset/train.c                             27% 3 - new_dataset/train.c                             28% 3 - new_dataset/train.c                             29% 3 - new_dataset/train.c                             30% 3 - new_dataset/train.c                             31% 3 - new_dataset/train.c                             32% 3 - new_dataset/train.c                             33% 3 - new_dataset/train.c                             34% 3 - new_dataset/train.c                             35% 3 - new_dataset/train.c                             36% 3 - new_dataset/train.c                             37% 3 - new_dataset/train.c                             38% 3 - new_dataset/train.c                             39% 3 - new_dataset/train.c                             40% 3 - new_dataset/train.c                             41% 3 - new_dataset/train.c                             42% 3 - new_dataset/train.c                             43% 3 - new_dataset/train.c                             44% 3 - new_dataset/train.c                             45% 3 - new_dataset/train.c                             46% 3 - new_dataset/train.c                             47% 3 - new_dataset/train.c                             48% 3 - new_dataset/train.c                             49% 3 - new_dataset/train.c                             50% 3 - new_dataset/train.c                             51% 3 - new_dataset/train.c                             52% 3 - new_dataset/train.c                             53% 3 - new_dataset/train.c                             54% 3 - new_dataset/train.c                             55% 3 - new_dataset/train.c                             56% 3 - new_dataset/train.c                             57% 3 - new_dataset/train.c                             58% 3 - new_dataset/train.c                             59% 3 - new_dataset/train.c                             60% 3 - new_dataset/train.c                             61% 3 - new_dataset/train.c                             62% 3 - new_dataset/train.c                             63% 3 - new_dataset/train.c                             64% 3 - new_dataset/train.c                             65% 3 - new_dataset/train.c                             66% 3 - new_dataset/train.c                             67% 3 - new_dataset/train.c                             68% 3 - new_dataset/train.c                             69% 3 - new_dataset/train.c                             70% 3 - new_dataset/train.c                             71% 3 - new_dataset/train.c                             72% 3 - new_dataset/train.c                             73% 3 - new_dataset/train.c                             74% 3 - new_dataset/train.c                             75% 3 - new_dataset/train.c                             76% 3 - new_dataset/train.c                             77% 3 - new_dataset/train.c                             78% 3 - new_dataset/train.c                             79% 3 - new_dataset/train.c                             80% 3 - new_dataset/train.c                             81% 3 - new_dataset/train.c                             82% 3 - new_dataset/train.c                             83% 3 - new_dataset/train.c                             84% 3 - new_dataset/train.c                             85% 3 - new_dataset/train.c                             86% 3 - new_dataset/train.c                             87% 3 - new_dataset/train.c                             88% 3 - new_dataset/train.c                             89% 3 - new_dataset/train.c                             90% 3 - new_dataset/train.c                             91% 3 - new_dataset/train.c                             92% 3 - new_dataset/train.c                             93% 3 - new_dataset/train.c                             94% 3 - new_dataset/train.c                             95% 3 - new_dataset/train.c                             96% 3 - new_dataset/train.c                             97% 3 - new_dataset/train.c                             98% 3 - new_dataset/train.c                             99% 3 - new_dataset/train.c                            100%    Everything is Ok\n",
      "\n",
      "Folders: 1\n",
      "Files: 3\n",
      "Size:       1667250235\n",
      "Compressed: 355228885\n"
     ]
    }
   ],
   "source": [
    "!7z x d583b256-d-new_dataset.7z"
   ]
  },
  {
   "cell_type": "code",
   "execution_count": 10,
   "metadata": {},
   "outputs": [],
   "source": [
    "path = Path('new_dataset')"
   ]
  },
  {
   "cell_type": "code",
   "execution_count": 11,
   "metadata": {},
   "outputs": [
    {
     "data": {
      "text/plain": [
       "[PosixPath('new_dataset/.ipynb_checkpoints'),\n",
       " PosixPath('new_dataset/sample_submission.csv'),\n",
       " PosixPath('new_dataset/test.csv'),\n",
       " PosixPath('new_dataset/sample_old.csv'),\n",
       " PosixPath('new_dataset/models'),\n",
       " PosixPath('new_dataset/tmp_lm_1'),\n",
       " PosixPath('new_dataset/data_clas'),\n",
       " PosixPath('new_dataset/train_sample.csv'),\n",
       " PosixPath('new_dataset/train_n.csv'),\n",
       " PosixPath('new_dataset/train.csv'),\n",
       " PosixPath('new_dataset/sample.csv')]"
      ]
     },
     "execution_count": 11,
     "metadata": {},
     "output_type": "execute_result"
    }
   ],
   "source": [
    "path.ls()"
   ]
  },
  {
   "cell_type": "code",
   "execution_count": 12,
   "metadata": {},
   "outputs": [],
   "source": [
    "import pandas as pd"
   ]
  },
  {
   "cell_type": "code",
   "execution_count": 13,
   "metadata": {},
   "outputs": [],
   "source": [
    "df = pd.read_csv(path/'train.csv')"
   ]
  },
  {
   "cell_type": "code",
   "execution_count": 6,
   "metadata": {},
   "outputs": [
    {
     "data": {
      "text/html": [
       "<div>\n",
       "<style scoped>\n",
       "    .dataframe tbody tr th:only-of-type {\n",
       "        vertical-align: middle;\n",
       "    }\n",
       "\n",
       "    .dataframe tbody tr th {\n",
       "        vertical-align: top;\n",
       "    }\n",
       "\n",
       "    .dataframe thead th {\n",
       "        text-align: right;\n",
       "    }\n",
       "</style>\n",
       "<table border=\"1\" class=\"dataframe\">\n",
       "  <thead>\n",
       "    <tr style=\"text-align: right;\">\n",
       "      <th></th>\n",
       "      <th>id</th>\n",
       "      <th>title</th>\n",
       "      <th>article</th>\n",
       "      <th>tags</th>\n",
       "    </tr>\n",
       "  </thead>\n",
       "  <tbody>\n",
       "    <tr>\n",
       "      <th>0</th>\n",
       "      <td>HE-ece4370</td>\n",
       "      <td>Check requests to server from the application ...</td>\n",
       "      <td>&lt;p&gt;Is there a way to find what sort of request...</td>\n",
       "      <td>flash|http|websocket|communication|wireshark</td>\n",
       "    </tr>\n",
       "    <tr>\n",
       "      <th>1</th>\n",
       "      <td>HE-fad0d3b</td>\n",
       "      <td>Using Asc offset and desc in psql</td>\n",
       "      <td>&lt;p&gt;This code produces this&lt;/p&gt;\\r\\r\\r\\r\\n\\r\\r\\r...</td>\n",
       "      <td>sql|postgresql|offset</td>\n",
       "    </tr>\n",
       "    <tr>\n",
       "      <th>2</th>\n",
       "      <td>HE-ea00013</td>\n",
       "      <td>What to do when you have much permissions with...</td>\n",
       "      <td>&lt;p&gt;I'm planning to use a binary system to hand...</td>\n",
       "      <td>php|permissions|binary|bit-manipulation</td>\n",
       "    </tr>\n",
       "    <tr>\n",
       "      <th>3</th>\n",
       "      <td>HE-df1304d</td>\n",
       "      <td>React remove component from list</td>\n",
       "      <td>&lt;p&gt;Pretty new to React, coming from knockout&lt;/...</td>\n",
       "      <td>reactjs</td>\n",
       "    </tr>\n",
       "    <tr>\n",
       "      <th>4</th>\n",
       "      <td>HE-e946f8c</td>\n",
       "      <td>RPC with promises for node.js</td>\n",
       "      <td>&lt;p&gt;Are there any RPC modules which work with p...</td>\n",
       "      <td>javascript|node.js|websocket|rpc|promise</td>\n",
       "    </tr>\n",
       "  </tbody>\n",
       "</table>\n",
       "</div>"
      ],
      "text/plain": [
       "           id                                              title  \\\n",
       "0  HE-ece4370  Check requests to server from the application ...   \n",
       "1  HE-fad0d3b                  Using Asc offset and desc in psql   \n",
       "2  HE-ea00013  What to do when you have much permissions with...   \n",
       "3  HE-df1304d                   React remove component from list   \n",
       "4  HE-e946f8c                      RPC with promises for node.js   \n",
       "\n",
       "                                             article  \\\n",
       "0  <p>Is there a way to find what sort of request...   \n",
       "1  <p>This code produces this</p>\\r\\r\\r\\r\\n\\r\\r\\r...   \n",
       "2  <p>I'm planning to use a binary system to hand...   \n",
       "3  <p>Pretty new to React, coming from knockout</...   \n",
       "4  <p>Are there any RPC modules which work with p...   \n",
       "\n",
       "                                           tags  \n",
       "0  flash|http|websocket|communication|wireshark  \n",
       "1                         sql|postgresql|offset  \n",
       "2       php|permissions|binary|bit-manipulation  \n",
       "3                                       reactjs  \n",
       "4      javascript|node.js|websocket|rpc|promise  "
      ]
     },
     "execution_count": 6,
     "metadata": {},
     "output_type": "execute_result"
    }
   ],
   "source": [
    "df.head()"
   ]
  },
  {
   "cell_type": "code",
   "execution_count": 12,
   "metadata": {
    "scrolled": true
   },
   "outputs": [
    {
     "data": {
      "text/plain": [
       "'<p>Is there a way to find what sort of requests does a Flash application send to a server?</p>\\r\\r\\r\\r\\n\\r\\r\\r\\r\\n<p>I was trying to see what information a client sends to the server using Chrome \"inspect element\", but it shows me that nothing is going on.</p>\\r\\r\\r\\r\\n\\r\\r\\r\\r\\n<p>But for sure the communication is going on. The website I am interesting in is <a href=\"http://www.chesscube.com/\" rel=\"nofollow\">http://www.chesscube.com/</a> and every time you make a move it somehow sends it to a server or may be just to another opponent. In the end of the game - it sends the game to the server for sure. But up till now, all I can see is just few images, being uploaded during the game.</p>\\r\\r\\r\\r\\n\\r\\r\\r\\r\\n<p>Thanks for help.</p>\\r\\r\\r\\r\\n\\r\\r\\r\\r\\n<p>P.S. I was trying to use wireshark to capture packets and in such a way to see the communication. Here what I was doing:</p>\\r\\r\\r\\r\\n\\r\\r\\r\\r\\n<p>Pinging chesscube.com to realize its ip-address: 78.47.2.115\\r\\r\\r\\r\\nthan I am listening only for a packages from that ip address ip.addr == 78.47.2.115\\r\\r\\r\\r\\nbut the only thing I can see is a lot of TCP and some HTTP packages. All http packages are sending just png images of the avatars of the users. There is a chat there, and people are constantly speaking but I can no see that. I understand that it is going from another IP address, but I have no idea how I can found out it. The problem is that I can not watch for all traffic between the net and my computer, because there is so much of it, and I do not know how limit it.</p>'"
      ]
     },
     "execution_count": 12,
     "metadata": {},
     "output_type": "execute_result"
    }
   ],
   "source": [
    "df['article'][0]"
   ]
  },
  {
   "cell_type": "code",
   "execution_count": 13,
   "metadata": {},
   "outputs": [
    {
     "data": {
      "text/plain": [
       "0    Check requests to server from the application ...\n",
       "1                    Using Asc offset and desc in psql\n",
       "2    What to do when you have much permissions with...\n",
       "3                     React remove component from list\n",
       "4                        RPC with promises for node.js\n",
       "Name: title, dtype: object"
      ]
     },
     "execution_count": 13,
     "metadata": {},
     "output_type": "execute_result"
    }
   ],
   "source": [
    "df['title'].head()"
   ]
  },
  {
   "cell_type": "code",
   "execution_count": 14,
   "metadata": {
    "scrolled": true
   },
   "outputs": [
    {
     "data": {
      "text/plain": [
       "0              flash|http|websocket|communication|wireshark\n",
       "1                                     sql|postgresql|offset\n",
       "2                   php|permissions|binary|bit-manipulation\n",
       "3                                                   reactjs\n",
       "4                  javascript|node.js|websocket|rpc|promise\n",
       "5                                                   android\n",
       "6                                                      java\n",
       "7                      c++|c|opencl|fractals|newtons-method\n",
       "8                 visual-studio-2013|web-deployment-project\n",
       "9                                                   android\n",
       "10                                             logging|nlog\n",
       "11                                      regex|download|wget\n",
       "12                        javascript|performance|highcharts\n",
       "13           macos|bash|command-line|command-line-arguments\n",
       "14                     mysql|cakephp|sql-update|cakephp-2.0\n",
       "15                                     php|html|css|twitter\n",
       "16                                                 c#|azure\n",
       "17                                         python|notepad++\n",
       "18                                               java|linux\n",
       "19               javascript|php|charts|google-visualization\n",
       "20                                           linux|assembly\n",
       "21             java|object|arraylist|abstract-class|extends\n",
       "22                  java|eclipse|postgresql|jpa|persistence\n",
       "23                                           colors|leaflet\n",
       "24                                  java|mysql|java-ee|jdbc\n",
       "25                                      css3|css-animations\n",
       "26                       c|linux|ubuntu|linux-kernel|setuid\n",
       "27                                    asp.net-web-api|odata\n",
       "28        c#|entity-framework|entity-framework-4|code-first\n",
       "29                      javascript|jquery|ajax|asynchronous\n",
       "                                ...                        \n",
       "786949                  python|excel|date|pandas|python-3.4\n",
       "786950                                             c|arrays\n",
       "786951                node.js|backbone.js|express|pushstate\n",
       "786952                java|android|sorting|listview|adapter\n",
       "786953                              ios|objective-c|uilabel\n",
       "786954                                   python|html|django\n",
       "786955                           php|header|include|website\n",
       "786956                                        qt|qtcpserver\n",
       "786957                                php|email|swiftmailer\n",
       "786958                              django|reactjs|grouping\n",
       "786959                            php|javascript|parameters\n",
       "786960                             python|string|dictionary\n",
       "786961                           html|css|image|file-upload\n",
       "786962                                     jquery|templates\n",
       "786963                   php|mysql|zend-framework|doctrine2\n",
       "786964                             sql|sql-server-2008|tsql\n",
       "786965    java|android|broadcastreceiver|android-broadca...\n",
       "786966                                                d3.js\n",
       "786967              continuous-integration|vsts|npm-install\n",
       "786968                  c++|performance|performance-testing\n",
       "786969                                            excel|vba\n",
       "786970                                        wijmo|wijgrid\n",
       "786971       angularjs|angularjs-ng-repeat|angularjs-filter\n",
       "786972                            c|debian|header-files|xcb\n",
       "786973                                               jquery\n",
       "786974              java|android|android-actionbar|manifest\n",
       "786975                      sql|sql-server|sql-optimization\n",
       "786976                          mysql|sql|performance|views\n",
       "786977                            javascript|angularjs|ajax\n",
       "786978                          websphere|crontab|scheduler\n",
       "Name: tags, Length: 786979, dtype: object"
      ]
     },
     "execution_count": 14,
     "metadata": {},
     "output_type": "execute_result"
    }
   ],
   "source": [
    "df.tags"
   ]
  },
  {
   "cell_type": "code",
   "execution_count": 11,
   "metadata": {},
   "outputs": [
    {
     "data": {
      "text/plain": [
       "118047.0"
      ]
     },
     "execution_count": 11,
     "metadata": {},
     "output_type": "execute_result"
    }
   ],
   "source": [
    "round(df.shape[0]*0.15,0)"
   ]
  },
  {
   "cell_type": "code",
   "execution_count": 13,
   "metadata": {},
   "outputs": [],
   "source": [
    "df_n = df.sample(n=118047)"
   ]
  },
  {
   "cell_type": "markdown",
   "metadata": {},
   "source": [
    "df_n.to_csv(path/'sample.csv', index=False)"
   ]
  },
  {
   "cell_type": "code",
   "execution_count": 5,
   "metadata": {
    "scrolled": true
   },
   "outputs": [
    {
     "data": {
      "text/html": [
       "<div>\n",
       "<style scoped>\n",
       "    .dataframe tbody tr th:only-of-type {\n",
       "        vertical-align: middle;\n",
       "    }\n",
       "\n",
       "    .dataframe tbody tr th {\n",
       "        vertical-align: top;\n",
       "    }\n",
       "\n",
       "    .dataframe thead th {\n",
       "        text-align: right;\n",
       "    }\n",
       "</style>\n",
       "<table border=\"1\" class=\"dataframe\">\n",
       "  <thead>\n",
       "    <tr style=\"text-align: right;\">\n",
       "      <th></th>\n",
       "      <th>id</th>\n",
       "      <th>title</th>\n",
       "      <th>article</th>\n",
       "      <th>tags</th>\n",
       "      <th>is_valid</th>\n",
       "    </tr>\n",
       "  </thead>\n",
       "  <tbody>\n",
       "    <tr>\n",
       "      <th>0</th>\n",
       "      <td>HE-e26746a</td>\n",
       "      <td>Composer.json to autoload classes</td>\n",
       "      <td>&lt;p&gt;So I was following this tutorial on how to ...</td>\n",
       "      <td>php|json</td>\n",
       "      <td>False</td>\n",
       "    </tr>\n",
       "    <tr>\n",
       "      <th>1</th>\n",
       "      <td>HE-ff813a6</td>\n",
       "      <td>design - state of object handled externally</td>\n",
       "      <td>&lt;p&gt;got a design related question:&lt;/p&gt;\\r\\r\\r\\r\\...</td>\n",
       "      <td>java|oop|design</td>\n",
       "      <td>False</td>\n",
       "    </tr>\n",
       "    <tr>\n",
       "      <th>2</th>\n",
       "      <td>HE-ff13aa5</td>\n",
       "      <td>Is there any reason in writing dict() instead ...</td>\n",
       "      <td>&lt;p&gt;I've heard that construction &lt;code&gt;{}&lt;/code...</td>\n",
       "      <td>python|python-3.x</td>\n",
       "      <td>False</td>\n",
       "    </tr>\n",
       "    <tr>\n",
       "      <th>3</th>\n",
       "      <td>HE-ea5ee68</td>\n",
       "      <td>Condition in a single column in mysql query</td>\n",
       "      <td>&lt;p&gt;I have a table name 'social_user' there is ...</td>\n",
       "      <td>mysql</td>\n",
       "      <td>False</td>\n",
       "    </tr>\n",
       "    <tr>\n",
       "      <th>4</th>\n",
       "      <td>HE-ed34826</td>\n",
       "      <td>msgpack deserialize c++</td>\n",
       "      <td>&lt;p&gt;When I parse from the buffer, I have to kno...</td>\n",
       "      <td>c++|msgpack|messagepack</td>\n",
       "      <td>False</td>\n",
       "    </tr>\n",
       "  </tbody>\n",
       "</table>\n",
       "</div>"
      ],
      "text/plain": [
       "           id                                              title  \\\n",
       "0  HE-e26746a                  Composer.json to autoload classes   \n",
       "1  HE-ff813a6        design - state of object handled externally   \n",
       "2  HE-ff13aa5  Is there any reason in writing dict() instead ...   \n",
       "3  HE-ea5ee68        Condition in a single column in mysql query   \n",
       "4  HE-ed34826                            msgpack deserialize c++   \n",
       "\n",
       "                                             article                     tags  \\\n",
       "0  <p>So I was following this tutorial on how to ...                 php|json   \n",
       "1  <p>got a design related question:</p>\\r\\r\\r\\r\\...          java|oop|design   \n",
       "2  <p>I've heard that construction <code>{}</code...        python|python-3.x   \n",
       "3  <p>I have a table name 'social_user' there is ...                    mysql   \n",
       "4  <p>When I parse from the buffer, I have to kno...  c++|msgpack|messagepack   \n",
       "\n",
       "   is_valid  \n",
       "0     False  \n",
       "1     False  \n",
       "2     False  \n",
       "3     False  \n",
       "4     False  "
      ]
     },
     "execution_count": 5,
     "metadata": {},
     "output_type": "execute_result"
    }
   ],
   "source": [
    "df_n = pd.read_csv(path/'sample_old.csv')\n",
    "df_n.head()"
   ]
  },
  {
   "cell_type": "code",
   "execution_count": 14,
   "metadata": {
    "scrolled": true
   },
   "outputs": [
    {
     "data": {
      "text/html": [
       "<div>\n",
       "<style scoped>\n",
       "    .dataframe tbody tr th:only-of-type {\n",
       "        vertical-align: middle;\n",
       "    }\n",
       "\n",
       "    .dataframe tbody tr th {\n",
       "        vertical-align: top;\n",
       "    }\n",
       "\n",
       "    .dataframe thead th {\n",
       "        text-align: right;\n",
       "    }\n",
       "</style>\n",
       "<table border=\"1\" class=\"dataframe\">\n",
       "  <thead>\n",
       "    <tr style=\"text-align: right;\">\n",
       "      <th></th>\n",
       "      <th>id</th>\n",
       "      <th>title</th>\n",
       "      <th>article</th>\n",
       "      <th>tags</th>\n",
       "      <th>is_valid</th>\n",
       "    </tr>\n",
       "  </thead>\n",
       "  <tbody>\n",
       "    <tr>\n",
       "      <th>0</th>\n",
       "      <td>HE-e26746a</td>\n",
       "      <td>Composer.json to autoload classes</td>\n",
       "      <td>&lt;p&gt;So I was following this tutorial on how to ...</td>\n",
       "      <td>php|json</td>\n",
       "      <td>True</td>\n",
       "    </tr>\n",
       "    <tr>\n",
       "      <th>1</th>\n",
       "      <td>HE-ff813a6</td>\n",
       "      <td>design - state of object handled externally</td>\n",
       "      <td>&lt;p&gt;got a design related question:&lt;/p&gt;\\r\\r\\r\\r\\...</td>\n",
       "      <td>java|oop|design</td>\n",
       "      <td>False</td>\n",
       "    </tr>\n",
       "    <tr>\n",
       "      <th>2</th>\n",
       "      <td>HE-ff13aa5</td>\n",
       "      <td>Is there any reason in writing dict() instead ...</td>\n",
       "      <td>&lt;p&gt;I've heard that construction &lt;code&gt;{}&lt;/code...</td>\n",
       "      <td>python|python-3.x</td>\n",
       "      <td>True</td>\n",
       "    </tr>\n",
       "    <tr>\n",
       "      <th>3</th>\n",
       "      <td>HE-ea5ee68</td>\n",
       "      <td>Condition in a single column in mysql query</td>\n",
       "      <td>&lt;p&gt;I have a table name 'social_user' there is ...</td>\n",
       "      <td>mysql</td>\n",
       "      <td>True</td>\n",
       "    </tr>\n",
       "    <tr>\n",
       "      <th>4</th>\n",
       "      <td>HE-ed34826</td>\n",
       "      <td>msgpack deserialize c++</td>\n",
       "      <td>&lt;p&gt;When I parse from the buffer, I have to kno...</td>\n",
       "      <td>c++|msgpack|messagepack</td>\n",
       "      <td>False</td>\n",
       "    </tr>\n",
       "  </tbody>\n",
       "</table>\n",
       "</div>"
      ],
      "text/plain": [
       "           id                                              title  \\\n",
       "0  HE-e26746a                  Composer.json to autoload classes   \n",
       "1  HE-ff813a6        design - state of object handled externally   \n",
       "2  HE-ff13aa5  Is there any reason in writing dict() instead ...   \n",
       "3  HE-ea5ee68        Condition in a single column in mysql query   \n",
       "4  HE-ed34826                            msgpack deserialize c++   \n",
       "\n",
       "                                             article                     tags  \\\n",
       "0  <p>So I was following this tutorial on how to ...                 php|json   \n",
       "1  <p>got a design related question:</p>\\r\\r\\r\\r\\...          java|oop|design   \n",
       "2  <p>I've heard that construction <code>{}</code...        python|python-3.x   \n",
       "3  <p>I have a table name 'social_user' there is ...                    mysql   \n",
       "4  <p>When I parse from the buffer, I have to kno...  c++|msgpack|messagepack   \n",
       "\n",
       "   is_valid  \n",
       "0      True  \n",
       "1     False  \n",
       "2      True  \n",
       "3      True  \n",
       "4     False  "
      ]
     },
     "execution_count": 14,
     "metadata": {},
     "output_type": "execute_result"
    }
   ],
   "source": [
    "df_n = pd.read_csv(path/'sample.csv')\n",
    "df_n.head()"
   ]
  },
  {
   "cell_type": "code",
   "execution_count": 6,
   "metadata": {
    "scrolled": true
   },
   "outputs": [
    {
     "data": {
      "text/plain": [
       "(11861, 5)"
      ]
     },
     "execution_count": 6,
     "metadata": {},
     "output_type": "execute_result"
    }
   ],
   "source": [
    "df_n[df_n['is_valid'] == True].shape"
   ]
  },
  {
   "cell_type": "code",
   "execution_count": 129,
   "metadata": {},
   "outputs": [
    {
     "data": {
      "text/plain": [
       "array(['php|json', 'java|oop|design', 'python|python-3.x', 'mysql', ..., 'ios|core-graphics|drawrect|cgcontext',\n",
       "       'tomcat|servlets|apache-spark', 'python|list|order|tuples', 'jquery|iframe|fancybox'], dtype=object)"
      ]
     },
     "execution_count": 129,
     "metadata": {},
     "output_type": "execute_result"
    }
   ],
   "source": [
    "df_n.tags.unique()"
   ]
  },
  {
   "cell_type": "code",
   "execution_count": 7,
   "metadata": {},
   "outputs": [
    {
     "data": {
      "text/plain": [
       "81787"
      ]
     },
     "execution_count": 7,
     "metadata": {},
     "output_type": "execute_result"
    }
   ],
   "source": [
    "max_unique = len(df_n.tags.unique())\n",
    "max_unique"
   ]
  },
  {
   "cell_type": "code",
   "execution_count": 43,
   "metadata": {},
   "outputs": [
    {
     "data": {
      "text/plain": [
       "array([6])"
      ]
     },
     "execution_count": 43,
     "metadata": {},
     "output_type": "execute_result"
    }
   ],
   "source": [
    "np.array(df_n[df_n.tags == df_n.tags.unique()[6]].index)"
   ]
  },
  {
   "cell_type": "code",
   "execution_count": 39,
   "metadata": {
    "scrolled": true
   },
   "outputs": [
    {
     "data": {
      "text/html": [
       "<div>\n",
       "<style scoped>\n",
       "    .dataframe tbody tr th:only-of-type {\n",
       "        vertical-align: middle;\n",
       "    }\n",
       "\n",
       "    .dataframe tbody tr th {\n",
       "        vertical-align: top;\n",
       "    }\n",
       "\n",
       "    .dataframe thead th {\n",
       "        text-align: right;\n",
       "    }\n",
       "</style>\n",
       "<table border=\"1\" class=\"dataframe\">\n",
       "  <thead>\n",
       "    <tr style=\"text-align: right;\">\n",
       "      <th></th>\n",
       "      <th>id</th>\n",
       "      <th>title</th>\n",
       "      <th>article</th>\n",
       "      <th>tags</th>\n",
       "      <th>is_valid</th>\n",
       "    </tr>\n",
       "  </thead>\n",
       "  <tbody>\n",
       "    <tr>\n",
       "      <th>154</th>\n",
       "      <td>HE-df3c66e</td>\n",
       "      <td>Entity Framework Include in Where Subquery</td>\n",
       "      <td>&lt;p&gt;I believe I'm missing something obvious her...</td>\n",
       "      <td>c#|entity-framework|linq</td>\n",
       "      <td>False</td>\n",
       "    </tr>\n",
       "    <tr>\n",
       "      <th>2736</th>\n",
       "      <td>HE-d54b85d</td>\n",
       "      <td>c# linq traverse hierarchy data from database</td>\n",
       "      <td>&lt;p&gt;I have a database table with customers:&lt;/p&gt;...</td>\n",
       "      <td>c#|entity-framework|linq</td>\n",
       "      <td>False</td>\n",
       "    </tr>\n",
       "    <tr>\n",
       "      <th>29945</th>\n",
       "      <td>HE-cd936d7</td>\n",
       "      <td>Count child matches in linq Entity Framework</td>\n",
       "      <td>&lt;p&gt;I try to count the number of child elements...</td>\n",
       "      <td>c#|entity-framework|linq</td>\n",
       "      <td>False</td>\n",
       "    </tr>\n",
       "    <tr>\n",
       "      <th>58594</th>\n",
       "      <td>HE-d951de8</td>\n",
       "      <td>Building hierarchy model C#</td>\n",
       "      <td>&lt;p&gt;I've hierarchy model :&lt;/p&gt;\\r\\r\\r\\r\\n\\r\\r\\r\\...</td>\n",
       "      <td>c#|entity-framework|linq</td>\n",
       "      <td>False</td>\n",
       "    </tr>\n",
       "    <tr>\n",
       "      <th>62208</th>\n",
       "      <td>HE-cbce9eb</td>\n",
       "      <td>How to handle NULL object property with FirstO...</td>\n",
       "      <td>&lt;p&gt;my real application issue looks exactly lik...</td>\n",
       "      <td>c#|entity-framework|linq</td>\n",
       "      <td>False</td>\n",
       "    </tr>\n",
       "    <tr>\n",
       "      <th>81171</th>\n",
       "      <td>HE-ed2854e</td>\n",
       "      <td>Using Linq to query Entity Framework with Wher...</td>\n",
       "      <td>&lt;p&gt;I have two tables &lt;code&gt;People&lt;/code&gt; and &lt;...</td>\n",
       "      <td>c#|entity-framework|linq</td>\n",
       "      <td>False</td>\n",
       "    </tr>\n",
       "    <tr>\n",
       "      <th>103712</th>\n",
       "      <td>HE-ef90585</td>\n",
       "      <td>Filtering LINQ Query against member object list</td>\n",
       "      <td>&lt;p&gt;I have an application that I inherited from...</td>\n",
       "      <td>c#|entity-framework|linq</td>\n",
       "      <td>False</td>\n",
       "    </tr>\n",
       "  </tbody>\n",
       "</table>\n",
       "</div>"
      ],
      "text/plain": [
       "                id                                              title  \\\n",
       "154     HE-df3c66e         Entity Framework Include in Where Subquery   \n",
       "2736    HE-d54b85d      c# linq traverse hierarchy data from database   \n",
       "29945   HE-cd936d7       Count child matches in linq Entity Framework   \n",
       "58594   HE-d951de8                        Building hierarchy model C#   \n",
       "62208   HE-cbce9eb  How to handle NULL object property with FirstO...   \n",
       "81171   HE-ed2854e  Using Linq to query Entity Framework with Wher...   \n",
       "103712  HE-ef90585    Filtering LINQ Query against member object list   \n",
       "\n",
       "                                                  article  \\\n",
       "154     <p>I believe I'm missing something obvious her...   \n",
       "2736    <p>I have a database table with customers:</p>...   \n",
       "29945   <p>I try to count the number of child elements...   \n",
       "58594   <p>I've hierarchy model :</p>\\r\\r\\r\\r\\n\\r\\r\\r\\...   \n",
       "62208   <p>my real application issue looks exactly lik...   \n",
       "81171   <p>I have two tables <code>People</code> and <...   \n",
       "103712  <p>I have an application that I inherited from...   \n",
       "\n",
       "                            tags  is_valid  \n",
       "154     c#|entity-framework|linq     False  \n",
       "2736    c#|entity-framework|linq     False  \n",
       "29945   c#|entity-framework|linq     False  \n",
       "58594   c#|entity-framework|linq     False  \n",
       "62208   c#|entity-framework|linq     False  \n",
       "81171   c#|entity-framework|linq     False  \n",
       "103712  c#|entity-framework|linq     False  "
      ]
     },
     "execution_count": 39,
     "metadata": {},
     "output_type": "execute_result"
    }
   ],
   "source": [
    "df_n[df_n.tags == df_n.tags.unique()[153]]"
   ]
  },
  {
   "cell_type": "code",
   "execution_count": 8,
   "metadata": {},
   "outputs": [
    {
     "data": {
      "text/plain": [
       "11804"
      ]
     },
     "execution_count": 8,
     "metadata": {},
     "output_type": "execute_result"
    }
   ],
   "source": [
    "len(np.random.permutation(max_unique)[:int(0.1*df_n.shape[0])])"
   ]
  },
  {
   "cell_type": "code",
   "execution_count": 47,
   "metadata": {
    "scrolled": true
   },
   "outputs": [
    {
     "ename": "KeyboardInterrupt",
     "evalue": "",
     "output_type": "error",
     "traceback": [
      "\u001b[0;31m---------------------------------------------------------------------------\u001b[0m",
      "\u001b[0;31mKeyboardInterrupt\u001b[0m                         Traceback (most recent call last)",
      "\u001b[0;32m<ipython-input-47-75e7b126a842>\u001b[0m in \u001b[0;36m<module>\u001b[0;34m\u001b[0m\n\u001b[1;32m      1\u001b[0m \u001b[0ml\u001b[0m \u001b[0;34m=\u001b[0m \u001b[0;34m[\u001b[0m\u001b[0;34m]\u001b[0m\u001b[0;34m\u001b[0m\u001b[0;34m\u001b[0m\u001b[0m\n\u001b[1;32m      2\u001b[0m \u001b[0;32mfor\u001b[0m \u001b[0mi\u001b[0m \u001b[0;32min\u001b[0m \u001b[0mnp\u001b[0m\u001b[0;34m.\u001b[0m\u001b[0mrandom\u001b[0m\u001b[0;34m.\u001b[0m\u001b[0mpermutation\u001b[0m\u001b[0;34m(\u001b[0m\u001b[0mmax_unique\u001b[0m\u001b[0;34m)\u001b[0m\u001b[0;34m[\u001b[0m\u001b[0;34m:\u001b[0m\u001b[0mint\u001b[0m\u001b[0;34m(\u001b[0m\u001b[0;36m0.5\u001b[0m\u001b[0;34m*\u001b[0m\u001b[0mdf_n\u001b[0m\u001b[0;34m.\u001b[0m\u001b[0mshape\u001b[0m\u001b[0;34m[\u001b[0m\u001b[0;36m0\u001b[0m\u001b[0;34m]\u001b[0m\u001b[0;34m)\u001b[0m\u001b[0;34m]\u001b[0m\u001b[0;34m:\u001b[0m\u001b[0;34m\u001b[0m\u001b[0;34m\u001b[0m\u001b[0m\n\u001b[0;32m----> 3\u001b[0;31m     \u001b[0ma\u001b[0m \u001b[0;34m=\u001b[0m \u001b[0mnp\u001b[0m\u001b[0;34m.\u001b[0m\u001b[0marray\u001b[0m\u001b[0;34m(\u001b[0m\u001b[0mdf_n\u001b[0m\u001b[0;34m[\u001b[0m\u001b[0mdf_n\u001b[0m\u001b[0;34m.\u001b[0m\u001b[0mtags\u001b[0m \u001b[0;34m==\u001b[0m \u001b[0mdf_n\u001b[0m\u001b[0;34m.\u001b[0m\u001b[0mtags\u001b[0m\u001b[0;34m.\u001b[0m\u001b[0munique\u001b[0m\u001b[0;34m(\u001b[0m\u001b[0;34m)\u001b[0m\u001b[0;34m[\u001b[0m\u001b[0mi\u001b[0m\u001b[0;34m]\u001b[0m\u001b[0;34m]\u001b[0m\u001b[0;34m.\u001b[0m\u001b[0mindex\u001b[0m\u001b[0;34m)\u001b[0m\u001b[0;34m\u001b[0m\u001b[0;34m\u001b[0m\u001b[0m\n\u001b[0m\u001b[1;32m      4\u001b[0m     \u001b[0;32mif\u001b[0m \u001b[0mlen\u001b[0m\u001b[0;34m(\u001b[0m\u001b[0ma\u001b[0m\u001b[0;34m)\u001b[0m \u001b[0;34m>\u001b[0m \u001b[0;36m1\u001b[0m\u001b[0;34m:\u001b[0m\u001b[0;34m\u001b[0m\u001b[0;34m\u001b[0m\u001b[0m\n\u001b[1;32m      5\u001b[0m         \u001b[0ml\u001b[0m\u001b[0;34m.\u001b[0m\u001b[0mappend\u001b[0m\u001b[0;34m(\u001b[0m\u001b[0ma\u001b[0m\u001b[0;34m[\u001b[0m\u001b[0;36m0\u001b[0m\u001b[0;34m]\u001b[0m\u001b[0;34m)\u001b[0m\u001b[0;34m\u001b[0m\u001b[0;34m\u001b[0m\u001b[0m\n",
      "\u001b[0;32m/opt/anaconda3/lib/python3.7/site-packages/pandas/core/series.py\u001b[0m in \u001b[0;36munique\u001b[0;34m(self)\u001b[0m\n\u001b[1;32m   1491\u001b[0m         \u001b[0mCategories\u001b[0m \u001b[0;34m(\u001b[0m\u001b[0;36m3\u001b[0m\u001b[0;34m,\u001b[0m \u001b[0mobject\u001b[0m\u001b[0;34m)\u001b[0m\u001b[0;34m:\u001b[0m \u001b[0;34m[\u001b[0m\u001b[0ma\u001b[0m \u001b[0;34m<\u001b[0m \u001b[0mb\u001b[0m \u001b[0;34m<\u001b[0m \u001b[0mc\u001b[0m\u001b[0;34m]\u001b[0m\u001b[0;34m\u001b[0m\u001b[0;34m\u001b[0m\u001b[0m\n\u001b[1;32m   1492\u001b[0m         \"\"\"\n\u001b[0;32m-> 1493\u001b[0;31m         \u001b[0mresult\u001b[0m \u001b[0;34m=\u001b[0m \u001b[0msuper\u001b[0m\u001b[0;34m(\u001b[0m\u001b[0mSeries\u001b[0m\u001b[0;34m,\u001b[0m \u001b[0mself\u001b[0m\u001b[0;34m)\u001b[0m\u001b[0;34m.\u001b[0m\u001b[0munique\u001b[0m\u001b[0;34m(\u001b[0m\u001b[0;34m)\u001b[0m\u001b[0;34m\u001b[0m\u001b[0;34m\u001b[0m\u001b[0m\n\u001b[0m\u001b[1;32m   1494\u001b[0m \u001b[0;34m\u001b[0m\u001b[0m\n\u001b[1;32m   1495\u001b[0m         \u001b[0;32mif\u001b[0m \u001b[0mis_datetime64tz_dtype\u001b[0m\u001b[0;34m(\u001b[0m\u001b[0mself\u001b[0m\u001b[0;34m.\u001b[0m\u001b[0mdtype\u001b[0m\u001b[0;34m)\u001b[0m\u001b[0;34m:\u001b[0m\u001b[0;34m\u001b[0m\u001b[0;34m\u001b[0m\u001b[0m\n",
      "\u001b[0;32m/opt/anaconda3/lib/python3.7/site-packages/pandas/core/base.py\u001b[0m in \u001b[0;36munique\u001b[0;34m(self)\u001b[0m\n\u001b[1;32m   1047\u001b[0m         \u001b[0;32melse\u001b[0m\u001b[0;34m:\u001b[0m\u001b[0;34m\u001b[0m\u001b[0;34m\u001b[0m\u001b[0m\n\u001b[1;32m   1048\u001b[0m             \u001b[0;32mfrom\u001b[0m \u001b[0mpandas\u001b[0m\u001b[0;34m.\u001b[0m\u001b[0mcore\u001b[0m\u001b[0;34m.\u001b[0m\u001b[0malgorithms\u001b[0m \u001b[0;32mimport\u001b[0m \u001b[0munique1d\u001b[0m\u001b[0;34m\u001b[0m\u001b[0;34m\u001b[0m\u001b[0m\n\u001b[0;32m-> 1049\u001b[0;31m             \u001b[0mresult\u001b[0m \u001b[0;34m=\u001b[0m \u001b[0munique1d\u001b[0m\u001b[0;34m(\u001b[0m\u001b[0mvalues\u001b[0m\u001b[0;34m)\u001b[0m\u001b[0;34m\u001b[0m\u001b[0;34m\u001b[0m\u001b[0m\n\u001b[0m\u001b[1;32m   1050\u001b[0m \u001b[0;34m\u001b[0m\u001b[0m\n\u001b[1;32m   1051\u001b[0m         \u001b[0;32mreturn\u001b[0m \u001b[0mresult\u001b[0m\u001b[0;34m\u001b[0m\u001b[0;34m\u001b[0m\u001b[0m\n",
      "\u001b[0;32m/opt/anaconda3/lib/python3.7/site-packages/pandas/core/algorithms.py\u001b[0m in \u001b[0;36munique\u001b[0;34m(values)\u001b[0m\n\u001b[1;32m    366\u001b[0m \u001b[0;34m\u001b[0m\u001b[0m\n\u001b[1;32m    367\u001b[0m     \u001b[0mtable\u001b[0m \u001b[0;34m=\u001b[0m \u001b[0mhtable\u001b[0m\u001b[0;34m(\u001b[0m\u001b[0mlen\u001b[0m\u001b[0;34m(\u001b[0m\u001b[0mvalues\u001b[0m\u001b[0;34m)\u001b[0m\u001b[0;34m)\u001b[0m\u001b[0;34m\u001b[0m\u001b[0;34m\u001b[0m\u001b[0m\n\u001b[0;32m--> 368\u001b[0;31m     \u001b[0muniques\u001b[0m \u001b[0;34m=\u001b[0m \u001b[0mtable\u001b[0m\u001b[0;34m.\u001b[0m\u001b[0munique\u001b[0m\u001b[0;34m(\u001b[0m\u001b[0mvalues\u001b[0m\u001b[0;34m)\u001b[0m\u001b[0;34m\u001b[0m\u001b[0;34m\u001b[0m\u001b[0m\n\u001b[0m\u001b[1;32m    369\u001b[0m     \u001b[0muniques\u001b[0m \u001b[0;34m=\u001b[0m \u001b[0m_reconstruct_data\u001b[0m\u001b[0;34m(\u001b[0m\u001b[0muniques\u001b[0m\u001b[0;34m,\u001b[0m \u001b[0mdtype\u001b[0m\u001b[0;34m,\u001b[0m \u001b[0moriginal\u001b[0m\u001b[0;34m)\u001b[0m\u001b[0;34m\u001b[0m\u001b[0;34m\u001b[0m\u001b[0m\n\u001b[1;32m    370\u001b[0m \u001b[0;34m\u001b[0m\u001b[0m\n",
      "\u001b[0;31mKeyboardInterrupt\u001b[0m: "
     ]
    }
   ],
   "source": [
    "l = []\n",
    "for i in np.random.permutation(max_unique)[:int(0.7*df_n.shape[0])]:\n",
    "    a = np.array(df_n[df_n.tags == df_n.tags.unique()[i]].index)\n",
    "    if len(a) > 10:\n",
    "        l.append(a[:10])\n",
    "    elif len(a) > 5:\n",
    "        l.append(a[:5])\n",
    "    elif len(a) > 3:\n",
    "        l.append(a[:3])"
   ]
  },
  {
   "cell_type": "code",
   "execution_count": null,
   "metadata": {},
   "outputs": [],
   "source": [
    "l"
   ]
  },
  {
   "cell_type": "code",
   "execution_count": null,
   "metadata": {},
   "outputs": [],
   "source": [
    "a = 0\n",
    "for i in l:\n",
    "    a+= len(i)\n",
    "print(a)"
   ]
  },
  {
   "cell_type": "code",
   "execution_count": null,
   "metadata": {},
   "outputs": [],
   "source": [
    "for i in l:\n",
    "    df_n.loc[i,'is_valid'] = True"
   ]
  },
  {
   "cell_type": "code",
   "execution_count": 45,
   "metadata": {
    "scrolled": true
   },
   "outputs": [
    {
     "data": {
      "text/plain": [
       "(306, 5)"
      ]
     },
     "execution_count": 45,
     "metadata": {},
     "output_type": "execute_result"
    }
   ],
   "source": [
    "df_n[df_n['is_valid'] == True].shape"
   ]
  },
  {
   "cell_type": "code",
   "execution_count": null,
   "metadata": {},
   "outputs": [],
   "source": [
    "df_n.to_csv(path/'sample.csv', index=False)"
   ]
  },
  {
   "cell_type": "code",
   "execution_count": null,
   "metadata": {},
   "outputs": [],
   "source": [
    "df_n = pd.read_csv(path/'sample.csv')\n",
    "df_n.head()"
   ]
  },
  {
   "cell_type": "code",
   "execution_count": 80,
   "metadata": {},
   "outputs": [
    {
     "data": {
      "text/plain": [
       "array([list(['flash', 'http', 'websocket', 'communication', 'wireshark']), list(['sql', 'postgresql', 'offset']),\n",
       "       list(['php', 'permissions', 'binary', 'bit-manipulation']), list(['reactjs']), ...,\n",
       "       list(['java', 'android', 'android-actionbar', 'manifest']), list(['sql', 'sql-server', 'sql-optimization']),\n",
       "       list(['mysql', 'sql', 'performance', 'views']), list(['websphere', 'crontab', 'scheduler'])], dtype=object)"
      ]
     },
     "execution_count": 80,
     "metadata": {},
     "output_type": "execute_result"
    }
   ],
   "source": [
    "# Labels\n",
    "df.tags.unique().astype(str)\n",
    "array(csv.reader(df.tags.unique().astype(str), delimiter='|'))"
   ]
  },
  {
   "cell_type": "markdown",
   "metadata": {},
   "source": [
    "df_n = df_n.dropna()"
   ]
  },
  {
   "cell_type": "code",
   "execution_count": 50,
   "metadata": {},
   "outputs": [
    {
     "data": {
      "text/plain": [
       "id         False\n",
       "title      False\n",
       "article    False\n",
       "tags       False\n",
       "dtype: bool"
      ]
     },
     "execution_count": 50,
     "metadata": {},
     "output_type": "execute_result"
    }
   ],
   "source": [
    "df_n.isnull().any()"
   ]
  },
  {
   "cell_type": "markdown",
   "metadata": {},
   "source": [
    "```python\n",
    "df_new = df.set_index(df['id'])\n",
    "df_new.drop('id', axis=1, inplace=True)\n",
    "df_new.drop('tags',axis=1, inplace = True)\n",
    "df_new.to_csv(path/'train_n.csv',index=False)\n",
    "```"
   ]
  },
  {
   "cell_type": "markdown",
   "metadata": {},
   "source": [
    "```python\n",
    "df_new = df_n\n",
    "df_new.drop('id', axis=1, inplace=True)\n",
    "df_new.drop('tags',axis=1, inplace = True)\n",
    "df_new.to_csv(path/'train_sample.csv',index=False)\n",
    "```"
   ]
  },
  {
   "cell_type": "code",
   "execution_count": 7,
   "metadata": {},
   "outputs": [
    {
     "data": {
      "text/html": [
       "<div>\n",
       "<style scoped>\n",
       "    .dataframe tbody tr th:only-of-type {\n",
       "        vertical-align: middle;\n",
       "    }\n",
       "\n",
       "    .dataframe tbody tr th {\n",
       "        vertical-align: top;\n",
       "    }\n",
       "\n",
       "    .dataframe thead th {\n",
       "        text-align: right;\n",
       "    }\n",
       "</style>\n",
       "<table border=\"1\" class=\"dataframe\">\n",
       "  <thead>\n",
       "    <tr style=\"text-align: right;\">\n",
       "      <th></th>\n",
       "      <th>title</th>\n",
       "      <th>article</th>\n",
       "    </tr>\n",
       "  </thead>\n",
       "  <tbody>\n",
       "    <tr>\n",
       "      <th>0</th>\n",
       "      <td>Check requests to server from the application ...</td>\n",
       "      <td>&lt;p&gt;Is there a way to find what sort of request...</td>\n",
       "    </tr>\n",
       "    <tr>\n",
       "      <th>1</th>\n",
       "      <td>Using Asc offset and desc in psql</td>\n",
       "      <td>&lt;p&gt;This code produces this&lt;/p&gt;\\r\\r\\r\\r\\n\\r\\r\\r...</td>\n",
       "    </tr>\n",
       "    <tr>\n",
       "      <th>2</th>\n",
       "      <td>What to do when you have much permissions with...</td>\n",
       "      <td>&lt;p&gt;I'm planning to use a binary system to hand...</td>\n",
       "    </tr>\n",
       "    <tr>\n",
       "      <th>3</th>\n",
       "      <td>React remove component from list</td>\n",
       "      <td>&lt;p&gt;Pretty new to React, coming from knockout&lt;/...</td>\n",
       "    </tr>\n",
       "    <tr>\n",
       "      <th>4</th>\n",
       "      <td>RPC with promises for node.js</td>\n",
       "      <td>&lt;p&gt;Are there any RPC modules which work with p...</td>\n",
       "    </tr>\n",
       "  </tbody>\n",
       "</table>\n",
       "</div>"
      ],
      "text/plain": [
       "                                               title  \\\n",
       "0  Check requests to server from the application ...   \n",
       "1                  Using Asc offset and desc in psql   \n",
       "2  What to do when you have much permissions with...   \n",
       "3                   React remove component from list   \n",
       "4                      RPC with promises for node.js   \n",
       "\n",
       "                                             article  \n",
       "0  <p>Is there a way to find what sort of request...  \n",
       "1  <p>This code produces this</p>\\r\\r\\r\\r\\n\\r\\r\\r...  \n",
       "2  <p>I'm planning to use a binary system to hand...  \n",
       "3  <p>Pretty new to React, coming from knockout</...  \n",
       "4  <p>Are there any RPC modules which work with p...  "
      ]
     },
     "execution_count": 7,
     "metadata": {},
     "output_type": "execute_result"
    }
   ],
   "source": [
    "df_new = pd.read_csv(path/'train_n.csv')\n",
    "df_new.head()"
   ]
  },
  {
   "cell_type": "code",
   "execution_count": 15,
   "metadata": {},
   "outputs": [
    {
     "data": {
      "text/html": [
       "<div>\n",
       "<style scoped>\n",
       "    .dataframe tbody tr th:only-of-type {\n",
       "        vertical-align: middle;\n",
       "    }\n",
       "\n",
       "    .dataframe tbody tr th {\n",
       "        vertical-align: top;\n",
       "    }\n",
       "\n",
       "    .dataframe thead th {\n",
       "        text-align: right;\n",
       "    }\n",
       "</style>\n",
       "<table border=\"1\" class=\"dataframe\">\n",
       "  <thead>\n",
       "    <tr style=\"text-align: right;\">\n",
       "      <th></th>\n",
       "      <th>title</th>\n",
       "      <th>article</th>\n",
       "    </tr>\n",
       "  </thead>\n",
       "  <tbody>\n",
       "    <tr>\n",
       "      <th>0</th>\n",
       "      <td>Composer.json to autoload classes</td>\n",
       "      <td>&lt;p&gt;So I was following this tutorial on how to ...</td>\n",
       "    </tr>\n",
       "    <tr>\n",
       "      <th>1</th>\n",
       "      <td>design - state of object handled externally</td>\n",
       "      <td>&lt;p&gt;got a design related question:&lt;/p&gt;\\r\\r\\r\\r\\...</td>\n",
       "    </tr>\n",
       "    <tr>\n",
       "      <th>2</th>\n",
       "      <td>Is there any reason in writing dict() instead ...</td>\n",
       "      <td>&lt;p&gt;I've heard that construction &lt;code&gt;{}&lt;/code...</td>\n",
       "    </tr>\n",
       "    <tr>\n",
       "      <th>3</th>\n",
       "      <td>Condition in a single column in mysql query</td>\n",
       "      <td>&lt;p&gt;I have a table name 'social_user' there is ...</td>\n",
       "    </tr>\n",
       "    <tr>\n",
       "      <th>4</th>\n",
       "      <td>msgpack deserialize c++</td>\n",
       "      <td>&lt;p&gt;When I parse from the buffer, I have to kno...</td>\n",
       "    </tr>\n",
       "  </tbody>\n",
       "</table>\n",
       "</div>"
      ],
      "text/plain": [
       "                                               title  \\\n",
       "0                  Composer.json to autoload classes   \n",
       "1        design - state of object handled externally   \n",
       "2  Is there any reason in writing dict() instead ...   \n",
       "3        Condition in a single column in mysql query   \n",
       "4                            msgpack deserialize c++   \n",
       "\n",
       "                                             article  \n",
       "0  <p>So I was following this tutorial on how to ...  \n",
       "1  <p>got a design related question:</p>\\r\\r\\r\\r\\...  \n",
       "2  <p>I've heard that construction <code>{}</code...  \n",
       "3  <p>I have a table name 'social_user' there is ...  \n",
       "4  <p>When I parse from the buffer, I have to kno...  "
      ]
     },
     "execution_count": 15,
     "metadata": {},
     "output_type": "execute_result"
    }
   ],
   "source": [
    "df_new = pd.read_csv(path/'train_sample.csv')\n",
    "df_new.head()"
   ]
  },
  {
   "cell_type": "markdown",
   "metadata": {},
   "source": [
    "## Language Model"
   ]
  },
  {
   "cell_type": "code",
   "execution_count": 7,
   "metadata": {},
   "outputs": [],
   "source": [
    "bs = 64 #BatchSize"
   ]
  },
  {
   "cell_type": "code",
   "execution_count": 23,
   "metadata": {},
   "outputs": [],
   "source": [
    "data_lm = (TextList.from_csv(path,'train_sample.csv')\n",
    "           #We may have other temp folders that contain text files so we only keep what's in train and test\n",
    "            .random_split_by_pct(0.1)\n",
    "           #We randomly split and keep 10% (10,000 reviews) for validation\n",
    "            .label_for_lm()           \n",
    "           #We want to do a language model so we label accordingly\n",
    "            .databunch())#bs=bs))\n",
    "data_lm.save('tmp_lm_1')"
   ]
  },
  {
   "cell_type": "code",
   "execution_count": 16,
   "metadata": {},
   "outputs": [],
   "source": [
    "data_lm = TextLMDataBunch.load(path, 'tmp_lm_1')#, bs=bs)"
   ]
  },
  {
   "cell_type": "code",
   "execution_count": 12,
   "metadata": {
    "scrolled": false
   },
   "outputs": [
    {
     "data": {
      "text/html": [
       "<table>  <col width='5%'>  <col width='95%'>  <tr>\n",
       "    <th>idx</th>\n",
       "    <th>text</th>\n",
       "  </tr>\n",
       "  <tr>\n",
       "    <th>0</th>\n",
       "    <th>xxbos xxmaj tuning oracle subquery in select statement xxbos xxmaj sending jquery.ajax data simultaneous to a form submit xxbos xxmaj elasticsearch failed to connect to master although the http request is available xxbos xxup msdn xxmaj subscriber xxmaj benefits - xxmaj visual xxmaj studio xxmaj professional xxbos xxmaj localstorage implementation showing undefined value xxbos xxmaj no overload for method takes 1 argument error xxbos delete multiple records on emberjs using</th>\n",
       "  </tr>\n",
       "  <tr>\n",
       "    <th>1</th>\n",
       "    <th>evaluation listener on xxmaj android gradle xxbos android setting layout background to xxunk xxbos xxmaj how to return mysql query results from eventmachine ? xxbos xxup mvc xxmaj list to jquery xxbos xxmaj how to change a password to an user in apache xxunk xxbos xxmaj getting input hidden value with jquery xxbos jquery xxunk xxmaj label xxmaj always xxmaj visible xxbos xxmaj an android virtual device that failed to</th>\n",
       "  </tr>\n",
       "  <tr>\n",
       "    <th>2</th>\n",
       "    <th>above bottom navigation bar when using navigation drawer in a fragment ? xxbos xxmaj how to format json reponse for autocomplete and make it xxunk xxbos xxmaj send xxmaj grid xxup web xxup api xxup v3 use xxmaj google analytics campaign wise xxbos xxmaj how to best keep locally generated elements of recursive struct in memory ? xxbos xxmaj how can i make xxup qt creator recognise different filename specifications</th>\n",
       "  </tr>\n",
       "  <tr>\n",
       "    <th>3</th>\n",
       "    <th>user connected xxup wifi data android xxbos build a post data structure from form with multiple variables xxbos c # : how to generate xxunk for partial bytes xxbos rails user validation test error with password confirmation xxbos xxmaj how to prevent app restart when changing locale ? xxbos c # xxmaj pull xxmaj report out of a xxup dll and put it in a xxmaj report xxmaj viewer xxbos</th>\n",
       "  </tr>\n",
       "  <tr>\n",
       "    <th>4</th>\n",
       "    <th>linux rename files in bulk using bash script or command line one liner xxbos xxmaj moving objects back and forth xxbos xxmaj why wo nt my code work to open a new file using sprintf and fopen ? xxbos xxmaj when used foreach in blade , xxmaj column value getting xxunk for each i d in laravel xxbos xxmaj return specific part of string in xxmaj javascript xxbos xxup 2d</th>\n",
       "  </tr>\n",
       "</table>\n"
      ],
      "text/plain": [
       "<IPython.core.display.HTML object>"
      ]
     },
     "metadata": {},
     "output_type": "display_data"
    }
   ],
   "source": [
    "data_lm.show_batch() #with df_new"
   ]
  },
  {
   "cell_type": "code",
   "execution_count": 26,
   "metadata": {},
   "outputs": [],
   "source": [
    "learn = language_model_learner(data_lm, pretrained_model=URLs.WT103, drop_mult=0.3)"
   ]
  },
  {
   "cell_type": "code",
   "execution_count": 27,
   "metadata": {},
   "outputs": [
    {
     "name": "stdout",
     "output_type": "stream",
     "text": [
      "LR Finder is complete, type {learner_name}.recorder.plot() to see the graph.\n"
     ]
    }
   ],
   "source": [
    "learn.lr_find()"
   ]
  },
  {
   "cell_type": "code",
   "execution_count": 28,
   "metadata": {},
   "outputs": [
    {
     "data": {
      "image/png": "[encoded data removed]",
      "text/plain": [
       "<Figure size 432x288 with 1 Axes>"
      ]
     },
     "metadata": {
      "needs_background": "light"
     },
     "output_type": "display_data"
    }
   ],
   "source": [
    "learn.recorder.plot(skip_end=15)"
   ]
  },
  {
   "cell_type": "code",
   "execution_count": 29,
   "metadata": {},
   "outputs": [
    {
     "data": {
      "text/html": [
       "Total time: 01:02 <p><table style='width:300px; margin-bottom:10px'>\n",
       "  <tr>\n",
       "    <th>epoch</th>\n",
       "    <th>train_loss</th>\n",
       "    <th>valid_loss</th>\n",
       "    <th>accuracy</th>\n",
       "  </tr>\n",
       "  <tr>\n",
       "    <th>1</th>\n",
       "    <th>4.975186</th>\n",
       "    <th>4.719396</th>\n",
       "    <th>0.268779</th>\n",
       "  </tr>\n",
       "</table>\n"
      ],
      "text/plain": [
       "<IPython.core.display.HTML object>"
      ]
     },
     "metadata": {},
     "output_type": "display_data"
    }
   ],
   "source": [
    "learn.fit_one_cycle(1, slice(1e-02,1e-01), moms=(0.8,0.7))"
   ]
  },
  {
   "cell_type": "code",
   "execution_count": 30,
   "metadata": {},
   "outputs": [],
   "source": [
    "learn.save('lm_fit')\n",
    "learn.save_encoder('lm_encoder')"
   ]
  },
  {
   "cell_type": "code",
   "execution_count": 31,
   "metadata": {},
   "outputs": [],
   "source": [
    "learn.load('lm_fit');"
   ]
  },
  {
   "cell_type": "code",
   "execution_count": 32,
   "metadata": {},
   "outputs": [
    {
     "data": {
      "text/html": [
       "Total time: 06:54 <p><table style='width:300px; margin-bottom:10px'>\n",
       "  <tr>\n",
       "    <th>epoch</th>\n",
       "    <th>train_loss</th>\n",
       "    <th>valid_loss</th>\n",
       "    <th>accuracy</th>\n",
       "  </tr>\n",
       "  <tr>\n",
       "    <th>1</th>\n",
       "    <th>4.463269</th>\n",
       "    <th>4.383429</th>\n",
       "    <th>0.300633</th>\n",
       "  </tr>\n",
       "  <tr>\n",
       "    <th>2</th>\n",
       "    <th>4.290228</th>\n",
       "    <th>4.229945</th>\n",
       "    <th>0.311606</th>\n",
       "  </tr>\n",
       "  <tr>\n",
       "    <th>3</th>\n",
       "    <th>4.077565</th>\n",
       "    <th>4.137705</th>\n",
       "    <th>0.317830</th>\n",
       "  </tr>\n",
       "  <tr>\n",
       "    <th>4</th>\n",
       "    <th>3.821371</th>\n",
       "    <th>4.112394</th>\n",
       "    <th>0.322523</th>\n",
       "  </tr>\n",
       "  <tr>\n",
       "    <th>5</th>\n",
       "    <th>3.564839</th>\n",
       "    <th>4.173197</th>\n",
       "    <th>0.318864</th>\n",
       "  </tr>\n",
       "</table>\n"
      ],
      "text/plain": [
       "<IPython.core.display.HTML object>"
      ]
     },
     "metadata": {},
     "output_type": "display_data"
    }
   ],
   "source": [
    "learn.unfreeze()\n",
    "learn.fit_one_cycle(5,1e-2, moms=(0.8,0.7))"
   ]
  },
  {
   "cell_type": "code",
   "execution_count": 33,
   "metadata": {},
   "outputs": [],
   "source": [
    "learn.save('lm_ft')\n",
    "learn.save_encoder('lm_ft_enc')"
   ]
  },
  {
   "cell_type": "code",
   "execution_count": 34,
   "metadata": {
    "scrolled": true
   },
   "outputs": [],
   "source": [
    "learn.load('lm_ft');"
   ]
  },
  {
   "cell_type": "markdown",
   "metadata": {},
   "source": [
    "## Classification Part"
   ]
  },
  {
   "cell_type": "code",
   "execution_count": 11,
   "metadata": {},
   "outputs": [],
   "source": [
    "data_clas = (TextList.from_csv(path,'sample.csv', vocab= data_lm.vocab)\n",
    "             .split_from_df(col=4)\n",
    "             .label_from_df(cols='tags', sep='|')\n",
    "             .databunch())#bs=bs))\n",
    "data_clas.save('data_clas')"
   ]
  },
  {
   "cell_type": "code",
   "execution_count": 17,
   "metadata": {
    "scrolled": true
   },
   "outputs": [
    {
     "data": {
      "text/html": [
       "<table>  <col width='90%'>  <col width='10%'>  <tr>\n",
       "    <th>text</th>\n",
       "    <th>target</th>\n",
       "  </tr>\n",
       "  <tr>\n",
       "    <th>xxbos xxup he - xxunk xxrep 4 d 5</th>\n",
       "    <th>c#;datagridview;winforms</th>\n",
       "  </tr>\n",
       "  <tr>\n",
       "    <th>xxbos xxup he - xxunk xxrep 4 8 c</th>\n",
       "    <th>python</th>\n",
       "  </tr>\n",
       "  <tr>\n",
       "    <th>xxbos xxup he - xxunk</th>\n",
       "    <th>java;jsp;maven;spring;spring-boot</th>\n",
       "  </tr>\n",
       "  <tr>\n",
       "    <th>xxbos xxup he - xxunk</th>\n",
       "    <th>swagger;swagger-editor</th>\n",
       "  </tr>\n",
       "  <tr>\n",
       "    <th>xxbos xxup he - xxunk</th>\n",
       "    <th>c;c++;devkitpro;programming-languages</th>\n",
       "  </tr>\n",
       "</table>\n"
      ],
      "text/plain": [
       "<IPython.core.display.HTML object>"
      ]
     },
     "metadata": {},
     "output_type": "display_data"
    }
   ],
   "source": [
    "data_clas = TextClasDataBunch.load(path, 'data_clas')#, bs=bs)\n",
    "data_clas.show_batch()"
   ]
  },
  {
   "cell_type": "code",
   "execution_count": 18,
   "metadata": {},
   "outputs": [],
   "source": [
    "acc_02 = partial(accuracy_thresh, thresh=0.2)\n",
    "f_score = partial(fbeta, thresh=0.2)"
   ]
  },
  {
   "cell_type": "code",
   "execution_count": 19,
   "metadata": {
    "scrolled": false
   },
   "outputs": [],
   "source": [
    "learn = text_classifier_learner(data_clas, drop_mult=0.5)\n",
    "learn.load_encoder('lm_ft_enc')\n",
    "learn.metrics = [acc_02, f_score]\n",
    "#learn.freeze()"
   ]
  },
  {
   "cell_type": "code",
   "execution_count": 20,
   "metadata": {},
   "outputs": [
    {
     "data": {
      "text/plain": [
       "BCEWithLogitsLoss()"
      ]
     },
     "execution_count": 20,
     "metadata": {},
     "output_type": "execute_result"
    }
   ],
   "source": [
    "learn.loss_func.func"
   ]
  },
  {
   "cell_type": "code",
   "execution_count": 26,
   "metadata": {},
   "outputs": [
    {
     "name": "stdout",
     "output_type": "stream",
     "text": [
      "LR Finder is complete, type {learner_name}.recorder.plot() to see the graph.\n"
     ]
    }
   ],
   "source": [
    "learn.lr_find()"
   ]
  },
  {
   "cell_type": "code",
   "execution_count": 27,
   "metadata": {},
   "outputs": [
    {
     "data": {
      "image/png": "[encoded data removed]",
      "text/plain": [
       "<Figure size 432x288 with 1 Axes>"
      ]
     },
     "metadata": {
      "needs_background": "light"
     },
     "output_type": "display_data"
    }
   ],
   "source": [
    "learn.recorder.plot()"
   ]
  },
  {
   "cell_type": "code",
   "execution_count": 17,
   "metadata": {
    "scrolled": false
   },
   "outputs": [
    {
     "data": {
      "text/html": [
       "Total time: 04:36 <p><table style='width:375px; margin-bottom:10px'>\n",
       "  <tr>\n",
       "    <th>epoch</th>\n",
       "    <th>train_loss</th>\n",
       "    <th>valid_loss</th>\n",
       "    <th>accuracy_thresh</th>\n",
       "    <th>fbeta</th>\n",
       "  </tr>\n",
       "  <tr>\n",
       "    <th>1</th>\n",
       "    <th>0.694160</th>\n",
       "    <th>0.686232</th>\n",
       "    <th>0.000131</th>\n",
       "    <th>0.000526</th>\n",
       "  </tr>\n",
       "</table>\n"
      ],
      "text/plain": [
       "<IPython.core.display.HTML object>"
      ]
     },
     "metadata": {},
     "output_type": "display_data"
    }
   ],
   "source": [
    "learn.fit_one_cycle(1,slice(1e-015,1e-005),moms=(0.8,0.7))"
   ]
  },
  {
   "cell_type": "code",
   "execution_count": 18,
   "metadata": {},
   "outputs": [],
   "source": [
    "learn.save('first')"
   ]
  },
  {
   "cell_type": "code",
   "execution_count": 28,
   "metadata": {
    "scrolled": true
   },
   "outputs": [],
   "source": [
    "learn.load('first');"
   ]
  },
  {
   "cell_type": "code",
   "execution_count": 29,
   "metadata": {},
   "outputs": [
    {
     "data": {
      "text/html": [
       "Total time: 04:46 <p><table style='width:375px; margin-bottom:10px'>\n",
       "  <tr>\n",
       "    <th>epoch</th>\n",
       "    <th>train_loss</th>\n",
       "    <th>valid_loss</th>\n",
       "    <th>accuracy_thresh</th>\n",
       "    <th>fbeta</th>\n",
       "  </tr>\n",
       "  <tr>\n",
       "    <th>1</th>\n",
       "    <th>0.001095</th>\n",
       "    <th>0.000661</th>\n",
       "    <th>0.999895</th>\n",
       "    <th>0.000000</th>\n",
       "  </tr>\n",
       "</table>\n"
      ],
      "text/plain": [
       "<IPython.core.display.HTML object>"
      ]
     },
     "metadata": {},
     "output_type": "display_data"
    }
   ],
   "source": [
    "learn.freeze_to(-2)\n",
    "learn.fit_one_cycle(1, slice(1e-2/(2.6**4),1e-2), moms=(0.8,0.7))"
   ]
  },
  {
   "cell_type": "code",
   "execution_count": 30,
   "metadata": {},
   "outputs": [],
   "source": [
    "learn.save('second')"
   ]
  },
  {
   "cell_type": "code",
   "execution_count": 34,
   "metadata": {},
   "outputs": [],
   "source": [
    "learn.load('second');"
   ]
  },
  {
   "cell_type": "code",
   "execution_count": 35,
   "metadata": {},
   "outputs": [
    {
     "data": {
      "text/html": [
       "Total time: 05:27 <p><table style='width:375px; margin-bottom:10px'>\n",
       "  <tr>\n",
       "    <th>epoch</th>\n",
       "    <th>train_loss</th>\n",
       "    <th>valid_loss</th>\n",
       "    <th>accuracy_thresh</th>\n",
       "    <th>fbeta</th>\n",
       "  </tr>\n",
       "  <tr>\n",
       "    <th>1</th>\n",
       "    <th>0.001105</th>\n",
       "    <th>0.000660</th>\n",
       "    <th>0.999895</th>\n",
       "    <th>0.000000</th>\n",
       "  </tr>\n",
       "</table>\n"
      ],
      "text/plain": [
       "<IPython.core.display.HTML object>"
      ]
     },
     "metadata": {},
     "output_type": "display_data"
    }
   ],
   "source": [
    "learn.freeze_to(-3)\n",
    "learn.fit_one_cycle(1, slice(5e-3/(2.6**4),5e-3), moms=(0.8,0.7))"
   ]
  },
  {
   "cell_type": "code",
   "execution_count": 36,
   "metadata": {},
   "outputs": [],
   "source": [
    "learn.save('third')"
   ]
  },
  {
   "cell_type": "code",
   "execution_count": 21,
   "metadata": {},
   "outputs": [],
   "source": [
    "learn.load('third');"
   ]
  },
  {
   "cell_type": "code",
   "execution_count": 22,
   "metadata": {
    "scrolled": true
   },
   "outputs": [
    {
     "data": {
      "text/html": [
       "<div>\n",
       "<style scoped>\n",
       "    .dataframe tbody tr th:only-of-type {\n",
       "        vertical-align: middle;\n",
       "    }\n",
       "\n",
       "    .dataframe tbody tr th {\n",
       "        vertical-align: top;\n",
       "    }\n",
       "\n",
       "    .dataframe thead th {\n",
       "        text-align: right;\n",
       "    }\n",
       "</style>\n",
       "<table border=\"1\" class=\"dataframe\">\n",
       "  <thead>\n",
       "    <tr style=\"text-align: right;\">\n",
       "      <th></th>\n",
       "      <th>id</th>\n",
       "      <th>title</th>\n",
       "      <th>article</th>\n",
       "    </tr>\n",
       "  </thead>\n",
       "  <tbody>\n",
       "    <tr>\n",
       "      <th>0</th>\n",
       "      <td>HE-efbc27d</td>\n",
       "      <td>How to display the current month in FTL code?</td>\n",
       "      <td>&lt;p&gt;How can I print the current month in a ftl ...</td>\n",
       "    </tr>\n",
       "    <tr>\n",
       "      <th>1</th>\n",
       "      <td>HE-d1fd267</td>\n",
       "      <td>OSX 10.8 mountain lion PEAR / PHPUnit not working</td>\n",
       "      <td>&lt;p&gt;I have installed Mountain Lion and I can't ...</td>\n",
       "    </tr>\n",
       "    <tr>\n",
       "      <th>2</th>\n",
       "      <td>HE-ffd4152</td>\n",
       "      <td>Update hidden input value with onclick event f...</td>\n",
       "      <td>&lt;p&gt;I'm working with MachForm and have this hid...</td>\n",
       "    </tr>\n",
       "    <tr>\n",
       "      <th>3</th>\n",
       "      <td>HE-d3ab268</td>\n",
       "      <td>transform a dijit select to a select list</td>\n",
       "      <td>&lt;p&gt;salam,\\r\\r\\r\\r\\nplease is it possible to  r...</td>\n",
       "    </tr>\n",
       "    <tr>\n",
       "      <th>4</th>\n",
       "      <td>HE-ed2fa45</td>\n",
       "      <td>Locking table database access for unregistered...</td>\n",
       "      <td>&lt;p&gt;Good Day Guys,&lt;/p&gt;\\r\\r\\r\\r\\n\\r\\r\\r\\r\\n&lt;p&gt;I ...</td>\n",
       "    </tr>\n",
       "  </tbody>\n",
       "</table>\n",
       "</div>"
      ],
      "text/plain": [
       "           id                                              title  \\\n",
       "0  HE-efbc27d      How to display the current month in FTL code?   \n",
       "1  HE-d1fd267  OSX 10.8 mountain lion PEAR / PHPUnit not working   \n",
       "2  HE-ffd4152  Update hidden input value with onclick event f...   \n",
       "3  HE-d3ab268          transform a dijit select to a select list   \n",
       "4  HE-ed2fa45  Locking table database access for unregistered...   \n",
       "\n",
       "                                             article  \n",
       "0  <p>How can I print the current month in a ftl ...  \n",
       "1  <p>I have installed Mountain Lion and I can't ...  \n",
       "2  <p>I'm working with MachForm and have this hid...  \n",
       "3  <p>salam,\\r\\r\\r\\r\\nplease is it possible to  r...  \n",
       "4  <p>Good Day Guys,</p>\\r\\r\\r\\r\\n\\r\\r\\r\\r\\n<p>I ...  "
      ]
     },
     "execution_count": 22,
     "metadata": {},
     "output_type": "execute_result"
    }
   ],
   "source": [
    "df_test = pd.read_csv(path/'test.csv')\n",
    "df_test.head()"
   ]
  },
  {
   "cell_type": "code",
   "execution_count": 38,
   "metadata": {},
   "outputs": [
    {
     "data": {
      "text/plain": [
       "\"<p>I have two projects in my Eclipse A and B, A depends on B, so I added a section of ... to A's POM.xml. Locally, it works fine. I can run A which uses classes from B. However, In my Jenkins continuous build, it fails due to not being able to find the jar file for project B.</p>\\r\\r\\r\\r\\n\\r\\r\\r\\r\\n<p>I guess maybe there is no jar produced for project B, and I checked .m2 directory, it doesn't exist. How can I make it work for Jenkins's build for dependencies?</p>\""
      ]
     },
     "execution_count": 38,
     "metadata": {},
     "output_type": "execute_result"
    }
   ],
   "source": [
    "test = df_test['article'][745]\n",
    "test"
   ]
  },
  {
   "cell_type": "code",
   "execution_count": 39,
   "metadata": {},
   "outputs": [
    {
     "data": {
      "text/plain": [
       "(MultiCategory actionscript-2;adapter;adt;ajp;android-linearlayout;android-recyclerview;autoresize;aws-lambda;boolean;bower;case;checkbox;cloudfoundry;clpfd;cocoapods;collapse;command-line-arguments;cross-domain;css-animations;data-loss;database-permissions;db2;dynamic-programming;ef-database-first;expression;flush;folder;frequency;getresource;getter;google-calendar;google-maps-sdk-ios;graph-databases;grid;hardware;hibernate;highstock;ida;jax-rs;jogl;jruby;kernel;linear-algebra;locale;macos;magento-1.7;mathematical-optimization;mkmapview;opencart;openshift;panel;parameters;project-structure;removeclass;rename;restful-architecture;return-value;rstudio;shiny;shinydashboard;socket.io;spatial;sql-server-2014;ssrs-2008;stored-procedures;submit;symfony;tomcat6;tsql;validation;vector;wagtail;weather-api;windows-phone-7;windowsiot,\n",
       " tensor([0., 0., 0.,  ..., 0., 0., 0.]),\n",
       " tensor([4.1560e-39, 4.1560e-39, 4.1560e-39,  ..., 0.0000e+00, 0.0000e+00,\n",
       "         0.0000e+00]))"
      ]
     },
     "execution_count": 39,
     "metadata": {},
     "output_type": "execute_result"
    }
   ],
   "source": [
    "learn.predict(test)"
   ]
  },
  {
   "cell_type": "code",
   "execution_count": 44,
   "metadata": {},
   "outputs": [
    {
     "data": {
      "text/plain": [
       "194323"
      ]
     },
     "execution_count": 44,
     "metadata": {},
     "output_type": "execute_result"
    }
   ],
   "source": [
    "articles = list(df_test['article'].astype(str))\n",
    "len(articles)"
   ]
  },
  {
   "cell_type": "code",
   "execution_count": null,
   "metadata": {},
   "outputs": [],
   "source": [
    "result = []\n",
    "for i in articles:\n",
    "    result.append(learn.predict(i)[0])"
   ]
  },
  {
   "cell_type": "code",
   "execution_count": null,
   "metadata": {},
   "outputs": [],
   "source": []
  }
 ],
 "metadata": {
  "kernelspec": {
   "display_name": "Python 3",
   "language": "python",
   "name": "python3"
  },
  "language_info": {
   "codemirror_mode": {
    "name": "ipython",
    "version": 3
   },
   "file_extension": ".py",
   "mimetype": "text/x-python",
   "name": "python",
   "nbconvert_exporter": "python",
   "pygments_lexer": "ipython3",
   "version": "3.7.1"
  }
 },
 "nbformat": 4,
 "nbformat_minor": 2
}
